{
 "cells": [
  {
   "cell_type": "markdown",
   "metadata": {},
   "source": [
    "# Sparkify Project Workspace\n",
    "This workspace contains a tiny subset (128MB) of the full dataset available (12GB). Feel free to use this workspace to build your project, or to explore a smaller subset with Spark before deploying your cluster on the cloud. Instructions for setting up your Spark cluster is included in the last lesson of the Extracurricular Spark Course content.\n",
    "\n",
    "You can follow the steps below to guide your data analysis and model building portion of this project."
   ]
  },
  {
   "cell_type": "code",
   "execution_count": 1,
   "metadata": {},
   "outputs": [],
   "source": [
    "# import libraries\n",
    "from pyspark.sql import SparkSession, Window\n",
    "from pyspark.sql.functions import avg, col, concat, desc, explode, lit, stddev,\\\n",
    "split, udf, count, countDistinct, desc, first\n",
    "from pyspark.sql.functions import max as fmax\n",
    "from pyspark.sql.functions import min as fmin\n",
    "from pyspark.sql.types import IntegerType\n",
    "\n",
    "from pyspark.ml import Pipeline\n",
    "from pyspark.ml.classification import LogisticRegression\n",
    "from pyspark.ml.evaluation import MulticlassClassificationEvaluator\n",
    "from pyspark.ml.feature import CountVectorizer, IDF, Normalizer, PCA, RegexTokenizer, StandardScaler,\\\n",
    "StopWordsRemover, StringIndexer, VectorAssembler\n",
    "from pyspark.ml.regression import LinearRegression\n",
    "from pyspark.ml.tuning import CrossValidator, ParamGridBuilder\n",
    "from pyspark.sql.functions import rand, col, when, concat, array, substring,lit,udf,lower,\\\n",
    "sum as ps_sum,count as ps_count, row_number\n",
    "from pyspark.ml.linalg import Vectors, VectorUDT\n",
    "from pyspark.ml.feature import VectorAssembler, BucketedRandomProjectionLSH, VectorSlicer\n",
    "from pyspark.sql.functions import first\n",
    "from pyspark.sql.functions import split\n",
    "from pyspark.sql.functions import date_format\n",
    "from pyspark.sql.types import FloatType\n",
    "from pyspark.ml import Pipeline\n",
    "from pyspark.ml.classification import LogisticRegression, DecisionTreeClassifier,RandomForestClassifier, \\\n",
    "LinearSVC, GBTClassifier\n",
    "from pyspark.ml.feature import StandardScaler, VectorAssembler\n",
    "from pyspark.ml.evaluation import MulticlassClassificationEvaluator\n",
    "from pyspark.mllib.evaluation import MulticlassMetrics, BinaryClassificationMetrics\n",
    "from pyspark.ml.tuning import CrossValidator, ParamGridBuilder\n",
    "from pyspark.sql import DataFrame\n",
    "\n",
    "\n",
    "from functools import reduce\n",
    "import random\n",
    "import time\n",
    "import pandas as pd\n",
    "import numpy as np\n",
    "from statsmodels.stats.proportion import proportions_ztest\n",
    "import re\n",
    "from datetime import datetime\n",
    "import matplotlib.pyplot as plt\n",
    "import seaborn as sns\n",
    "%matplotlib inline"
   ]
  },
  {
   "cell_type": "code",
   "execution_count": 2,
   "metadata": {},
   "outputs": [],
   "source": [
    "# create a Spark session\n",
    "spark = SparkSession.builder \\\n",
    "    .master(\"local\") \\\n",
    "    .appName(\"sparkify-app\") \\\n",
    "    .getOrCreate()"
   ]
  },
  {
   "cell_type": "markdown",
   "metadata": {},
   "source": [
    "# Load and Clean Dataset\n",
    "In this workspace, the mini-dataset file is `mini_sparkify_event_data.json`. Load and clean the dataset, checking for invalid or missing data - for example, records without userids or sessionids. "
   ]
  },
  {
   "cell_type": "code",
   "execution_count": 3,
   "metadata": {},
   "outputs": [
    {
     "data": {
      "text/plain": [
       "DataFrame[artist: string, auth: string, firstName: string, gender: string, itemInSession: bigint, lastName: string, length: double, level: string, location: string, method: string, page: string, registration: bigint, sessionId: bigint, song: string, status: bigint, ts: bigint, userAgent: string, userId: string]"
      ]
     },
     "execution_count": 3,
     "metadata": {},
     "output_type": "execute_result"
    }
   ],
   "source": [
    "df = spark.read.json(\"mini_sparkify_event_data.json\")\n",
    "df.persist()"
   ]
  },
  {
   "cell_type": "code",
   "execution_count": 4,
   "metadata": {
    "scrolled": false
   },
   "outputs": [],
   "source": [
    "#df.show(2)"
   ]
  },
  {
   "cell_type": "markdown",
   "metadata": {},
   "source": [
    "### Filter data by valid userId \"\" and Nan value\n",
    "- Dataframe contains empty `userId`, we can remove rows containing empty `userId`\n",
    "- Create a user defined function to format timestamp"
   ]
  },
  {
   "cell_type": "markdown",
   "metadata": {},
   "source": [
    "Schema Information\n",
    "- artist: Artist name (ex. Daft Punk)\n",
    "- auth: User authentication status (ex. Logged)\n",
    "- firstName: User first name (ex. Colin)\n",
    "- gender: Gender (ex. F or M)\n",
    "- itemInSession: Item count in a session (ex. 52)\n",
    "- lastName: User last name (ex. Freeman)\n",
    "- length: Length of song (ex. 223.60771)\n",
    "- level: User plan (ex. paid)\n",
    "- location: User's location (ex. Bakersfield)\n",
    "- method: HTTP method (ex. PUT)\n",
    "- page: Page name (ex. NextSong)\n",
    "- registration: Registration timestamp (unix timestamp) (ex. 1538173362000)\n",
    "- sessionId: Session ID (ex. 29)\n",
    "- song: Song (ex. Harder Better Faster Stronger)\n",
    "- status: HTTP status (ex. 200)\n",
    "- ts: Event timestamp(unix timestamp) (ex. 1538352676000)\n",
    "- userAgent: User's browswer agent (ex. Mozilla/5.0 (Windows NT 6.1; WOW64; rv:31.0) Gecko/20100101 Firefox/31.0)\n",
    "- userId: User ID (ex. 30)\n"
   ]
  },
  {
   "cell_type": "code",
   "execution_count": 5,
   "metadata": {
    "scrolled": true
   },
   "outputs": [
    {
     "name": "stdout",
     "output_type": "stream",
     "text": [
      "root\n",
      " |-- artist: string (nullable = true)\n",
      " |-- auth: string (nullable = true)\n",
      " |-- firstName: string (nullable = true)\n",
      " |-- gender: string (nullable = true)\n",
      " |-- itemInSession: long (nullable = true)\n",
      " |-- lastName: string (nullable = true)\n",
      " |-- length: double (nullable = true)\n",
      " |-- level: string (nullable = true)\n",
      " |-- location: string (nullable = true)\n",
      " |-- method: string (nullable = true)\n",
      " |-- page: string (nullable = true)\n",
      " |-- registration: long (nullable = true)\n",
      " |-- sessionId: long (nullable = true)\n",
      " |-- song: string (nullable = true)\n",
      " |-- status: long (nullable = true)\n",
      " |-- ts: long (nullable = true)\n",
      " |-- userAgent: string (nullable = true)\n",
      " |-- userId: string (nullable = true)\n",
      "\n"
     ]
    }
   ],
   "source": [
    "df.printSchema()"
   ]
  },
  {
   "cell_type": "code",
   "execution_count": 6,
   "metadata": {},
   "outputs": [
    {
     "data": {
      "text/plain": [
       "286500"
      ]
     },
     "execution_count": 6,
     "metadata": {},
     "output_type": "execute_result"
    }
   ],
   "source": [
    "df.count()"
   ]
  },
  {
   "cell_type": "code",
   "execution_count": 7,
   "metadata": {},
   "outputs": [
    {
     "data": {
      "text/plain": [
       "8346"
      ]
     },
     "execution_count": 7,
     "metadata": {},
     "output_type": "execute_result"
    }
   ],
   "source": [
    "df.filter(col(\"userId\") == \"\").count()"
   ]
  },
  {
   "cell_type": "code",
   "execution_count": 8,
   "metadata": {},
   "outputs": [
    {
     "data": {
      "text/plain": [
       "0"
      ]
     },
     "execution_count": 8,
     "metadata": {},
     "output_type": "execute_result"
    }
   ],
   "source": [
    "df.filter(col(\"userId\").isNull()).count()"
   ]
  },
  {
   "cell_type": "code",
   "execution_count": 9,
   "metadata": {},
   "outputs": [
    {
     "data": {
      "text/plain": [
       "0"
      ]
     },
     "execution_count": 9,
     "metadata": {},
     "output_type": "execute_result"
    }
   ],
   "source": [
    "df.filter(col(\"sessionId\") == \"\").count() "
   ]
  },
  {
   "cell_type": "code",
   "execution_count": 10,
   "metadata": {},
   "outputs": [
    {
     "data": {
      "text/plain": [
       "0"
      ]
     },
     "execution_count": 10,
     "metadata": {},
     "output_type": "execute_result"
    }
   ],
   "source": [
    "df.filter(col(\"sessionId\").isNull()).count()"
   ]
  },
  {
   "cell_type": "code",
   "execution_count": 11,
   "metadata": {},
   "outputs": [
    {
     "name": "stdout",
     "output_type": "stream",
     "text": [
      "+-------+-----------------+\n",
      "|summary|           userId|\n",
      "+-------+-----------------+\n",
      "|  count|           286500|\n",
      "|   mean|59682.02278593872|\n",
      "| stddev|109091.9499991047|\n",
      "|    min|                 |\n",
      "|    max|               99|\n",
      "+-------+-----------------+\n",
      "\n"
     ]
    }
   ],
   "source": [
    "df.describe(\"userId\").show()"
   ]
  },
  {
   "cell_type": "code",
   "execution_count": 12,
   "metadata": {},
   "outputs": [
    {
     "name": "stdout",
     "output_type": "stream",
     "text": [
      "+-------+-----------------+\n",
      "|summary|        sessionId|\n",
      "+-------+-----------------+\n",
      "|  count|           286500|\n",
      "|   mean|1041.526554973822|\n",
      "| stddev|726.7762634630741|\n",
      "|    min|                1|\n",
      "|    max|             2474|\n",
      "+-------+-----------------+\n",
      "\n"
     ]
    }
   ],
   "source": [
    "df.describe(\"sessionId\").show()"
   ]
  },
  {
   "cell_type": "code",
   "execution_count": 13,
   "metadata": {},
   "outputs": [],
   "source": [
    "valid_df = df.filter(col(\"userId\") != \"\")"
   ]
  },
  {
   "cell_type": "code",
   "execution_count": 14,
   "metadata": {},
   "outputs": [
    {
     "name": "stdout",
     "output_type": "stream",
     "text": [
      "+-------+-----------------+\n",
      "|summary|           userId|\n",
      "+-------+-----------------+\n",
      "|  count|           278154|\n",
      "|   mean|59682.02278593872|\n",
      "| stddev|109091.9499991047|\n",
      "|    min|               10|\n",
      "|    max|               99|\n",
      "+-------+-----------------+\n",
      "\n"
     ]
    }
   ],
   "source": [
    "valid_df.describe(\"userId\").show()"
   ]
  },
  {
   "cell_type": "code",
   "execution_count": 15,
   "metadata": {
    "scrolled": true
   },
   "outputs": [
    {
     "name": "stdout",
     "output_type": "stream",
     "text": [
      "+-------+------------------+\n",
      "|summary|         sessionId|\n",
      "+-------+------------------+\n",
      "|  count|            278154|\n",
      "|   mean|1042.5616241362698|\n",
      "| stddev| 726.5010362219813|\n",
      "|    min|                 1|\n",
      "|    max|              2474|\n",
      "+-------+------------------+\n",
      "\n"
     ]
    }
   ],
   "source": [
    "valid_df.describe(\"sessionId\").show()"
   ]
  },
  {
   "cell_type": "code",
   "execution_count": 16,
   "metadata": {},
   "outputs": [],
   "source": [
    "# User defined function for formating the timestamp\n",
    "get_time = udf(lambda x: datetime.fromtimestamp(x / 1000.0).strftime(\"%Y-%m-%d %H:%M:%S\"))"
   ]
  },
  {
   "cell_type": "code",
   "execution_count": 17,
   "metadata": {},
   "outputs": [],
   "source": [
    "# Apply the udf on the ts column\n",
    "valid_df = valid_df.withColumn(\"time\", get_time(valid_df.ts))"
   ]
  },
  {
   "cell_type": "code",
   "execution_count": 18,
   "metadata": {},
   "outputs": [
    {
     "data": {
      "text/plain": [
       "Row(artist='Martha Tilston', auth='Logged In', firstName='Colin', gender='M', itemInSession=50, lastName='Freeman', length=277.89016, level='paid', location='Bakersfield, CA', method='PUT', page='NextSong', registration=1538173362000, sessionId=29, song='Rockpools', status=200, ts=1538352117000, userAgent='Mozilla/5.0 (Windows NT 6.1; WOW64; rv:31.0) Gecko/20100101 Firefox/31.0', userId='30', time='2018-10-01 00:01:57')"
      ]
     },
     "execution_count": 18,
     "metadata": {},
     "output_type": "execute_result"
    }
   ],
   "source": [
    "valid_df.head()"
   ]
  },
  {
   "cell_type": "markdown",
   "metadata": {},
   "source": [
    "# Exploratory Data Analysis\n",
    "When you're working with the full dataset, perform EDA by loading a small subset of the data and doing basic manipulations within Spark. In this workspace, you are already provided a small subset of data you can explore.\n",
    "\n",
    "### Define Churn\n",
    "\n",
    "Once you've done some preliminary analysis, create a column `Churn` to use as the label for your model. I suggest using the `Cancellation Confirmation` events to define your churn, which happen for both paid and free users. As a bonus task, you can also look into the `Downgrade` events.\n",
    "\n",
    "### Explore Data\n",
    "Once you've defined churn, perform some exploratory data analysis to observe the behavior for users who stayed vs users who churned. You can start by exploring aggregates on these two groups of users, observing how much of a specific action they experienced per a certain time unit or number of songs played."
   ]
  },
  {
   "cell_type": "code",
   "execution_count": 19,
   "metadata": {
    "scrolled": true
   },
   "outputs": [
    {
     "name": "stdout",
     "output_type": "stream",
     "text": [
      "root\n",
      " |-- artist: string (nullable = true)\n",
      " |-- auth: string (nullable = true)\n",
      " |-- firstName: string (nullable = true)\n",
      " |-- gender: string (nullable = true)\n",
      " |-- itemInSession: long (nullable = true)\n",
      " |-- lastName: string (nullable = true)\n",
      " |-- length: double (nullable = true)\n",
      " |-- level: string (nullable = true)\n",
      " |-- location: string (nullable = true)\n",
      " |-- method: string (nullable = true)\n",
      " |-- page: string (nullable = true)\n",
      " |-- registration: long (nullable = true)\n",
      " |-- sessionId: long (nullable = true)\n",
      " |-- song: string (nullable = true)\n",
      " |-- status: long (nullable = true)\n",
      " |-- ts: long (nullable = true)\n",
      " |-- userAgent: string (nullable = true)\n",
      " |-- userId: string (nullable = true)\n",
      " |-- time: string (nullable = true)\n",
      "\n"
     ]
    }
   ],
   "source": [
    "valid_df.printSchema()"
   ]
  },
  {
   "cell_type": "markdown",
   "metadata": {},
   "source": [
    "All may happened event pages\n",
    "- About\n",
    "- Add Friend\n",
    "- Add to Playlist\n",
    "- Cancel\n",
    "- **Cancellation Confirmation**\n",
    "- Downgrade\n",
    "- Error\n",
    "- Help\n",
    "- Home\n",
    "- Login\n",
    "- Logout\n",
    "- NextSong\n",
    "- Register\n",
    "- Roll Advert\n",
    "- Save Settings\n",
    "- Settings\n",
    "- Submit Downgrade\n",
    "- Submit Registration\n",
    "- Submit Upgrade\n",
    "- Thumbs Down\n",
    "- Thumbs Up\n",
    "- Upgrade\n",
    "\n",
    "We may pay specific attention in **Cancellation Confirmation**, it's event that we never like to seeuser doing.<br>\n",
    "We use this event to flag and create a `churn` column."
   ]
  },
  {
   "cell_type": "code",
   "execution_count": 20,
   "metadata": {
    "scrolled": true
   },
   "outputs": [
    {
     "name": "stdout",
     "output_type": "stream",
     "text": [
      "+--------------------+\n",
      "|                page|\n",
      "+--------------------+\n",
      "|               About|\n",
      "|          Add Friend|\n",
      "|     Add to Playlist|\n",
      "|              Cancel|\n",
      "|Cancellation Conf...|\n",
      "|           Downgrade|\n",
      "|               Error|\n",
      "|                Help|\n",
      "|                Home|\n",
      "|              Logout|\n",
      "|            NextSong|\n",
      "|         Roll Advert|\n",
      "|       Save Settings|\n",
      "|            Settings|\n",
      "|    Submit Downgrade|\n",
      "|      Submit Upgrade|\n",
      "|         Thumbs Down|\n",
      "|           Thumbs Up|\n",
      "|             Upgrade|\n",
      "+--------------------+\n",
      "\n"
     ]
    }
   ],
   "source": [
    "valid_df.select(\"page\").dropDuplicates().sort(\"page\").show()"
   ]
  },
  {
   "cell_type": "code",
   "execution_count": 21,
   "metadata": {},
   "outputs": [
    {
     "data": {
      "text/plain": [
       "52"
      ]
     },
     "execution_count": 21,
     "metadata": {},
     "output_type": "execute_result"
    }
   ],
   "source": [
    "valid_df.filter(col(\"page\") == \"Cancellation Confirmation\").count()"
   ]
  },
  {
   "cell_type": "code",
   "execution_count": 22,
   "metadata": {
    "scrolled": true
   },
   "outputs": [
    {
     "name": "stdout",
     "output_type": "stream",
     "text": [
      "+------+---------+---------+------+-------------+---------+------+-----+--------------------+------+--------------------+-------------+---------+----+------+-------------+--------------------+------+-------------------+\n",
      "|artist|     auth|firstName|gender|itemInSession| lastName|length|level|            location|method|                page| registration|sessionId|song|status|           ts|           userAgent|userId|               time|\n",
      "+------+---------+---------+------+-------------+---------+------+-----+--------------------+------+--------------------+-------------+---------+----+------+-------------+--------------------+------+-------------------+\n",
      "|  null|Cancelled|   Adriel|     M|          104|  Mendoza|  null| paid|  Kansas City, MO-KS|   GET|Cancellation Conf...|1535623466000|      514|null|   200|1538943990000|\"Mozilla/5.0 (Mac...|    18|2018-10-07 20:26:30|\n",
      "|  null|Cancelled|    Diego|     M|           56|    Mckee|  null| paid|Phoenix-Mesa-Scot...|   GET|Cancellation Conf...|1537167593000|      540|null|   200|1539033046000|\"Mozilla/5.0 (iPh...|    32|2018-10-08 21:10:46|\n",
      "|  null|Cancelled|    Mason|     M|           10|     Hart|  null| free|  Corpus Christi, TX|   GET|Cancellation Conf...|1533157139000|      174|null|   200|1539318918000|\"Mozilla/5.0 (Mac...|   125|2018-10-12 04:35:18|\n",
      "|  null|Cancelled|Alexander|     M|          332|   Garcia|  null| paid|Indianapolis-Carm...|   GET|Cancellation Conf...|1536817381000|      508|null|   200|1539375441000|Mozilla/5.0 (Wind...|   105|2018-10-12 20:17:21|\n",
      "|  null|Cancelled|    Kayla|     F|          273|  Johnson|  null| paid|Philadelphia-Camd...|   GET|Cancellation Conf...|1538333829000|      797|null|   200|1539465584000|Mozilla/5.0 (Wind...|    17|2018-10-13 21:19:44|\n",
      "|  null|Cancelled|    Molly|     F|           29| Harrison|  null| free|Virginia Beach-No...|   GET|Cancellation Conf...|1534255113000|      843|null|   200|1539588854000|\"Mozilla/5.0 (Mac...|   143|2018-10-15 07:34:14|\n",
      "|  null|Cancelled|     Alex|     M|          145|    Hogan|  null| paid|Denver-Aurora-Lak...|   GET|Cancellation Conf...|1535066380000|      842|null|   200|1539729037000|Mozilla/5.0 (Wind...|   101|2018-10-16 22:30:37|\n",
      "|  null|Cancelled|    Davis|     M|           34|     Wang|  null| paid|           Flint, MI|   GET|Cancellation Conf...|1538289776000|      802|null|   200|1539736161000|\"Mozilla/5.0 (Win...|   129|2018-10-17 00:29:21|\n",
      "|  null|Cancelled|  Nikolas|     M|          287|    Olsen|  null| paid|Oxnard-Thousand O...|   GET|Cancellation Conf...|1528403713000|      881|null|   200|1539759749000|Mozilla/5.0 (X11;...|   121|2018-10-17 07:02:29|\n",
      "|  null|Cancelled|    Ethan|     M|          176|  Johnson|  null| paid|Lexington-Fayette...|   GET|Cancellation Conf...|1538080987000|      934|null|   200|1539761972000|\"Mozilla/5.0 (Win...|    51|2018-10-17 07:39:32|\n",
      "|  null|Cancelled|Christian|     M|          100| Robinson|  null| paid|       Quincy, IL-MO|   GET|Cancellation Conf...|1534942082000|     1092|null|   200|1540050556000|\"Mozilla/5.0 (Win...|    87|2018-10-20 15:49:16|\n",
      "|  null|Cancelled|    Molly|     F|           43|Patterson|  null| paid|   Memphis, TN-MS-AR|   GET|Cancellation Conf...|1535498705000|     1029|null|   200|1540062068000|Mozilla/5.0 (X11;...|   122|2018-10-20 19:01:08|\n",
      "|  null|Cancelled|   Sophia|     F|           72|    Perry|  null| paid|Los Angeles-Long ...|   GET|Cancellation Conf...|1533885783000|     1072|null|   200|1540193374000|Mozilla/5.0 (Wind...|    12|2018-10-22 07:29:34|\n",
      "|  null|Cancelled|    Erick|     M|           48|   Brooks|  null| paid|           Selma, AL|   GET|Cancellation Conf...|1537956751000|     1112|null|   200|1540223006000|\"Mozilla/5.0 (Win...|    58|2018-10-22 15:43:26|\n",
      "|  null|Cancelled|   Rachel|     F|           11|   Bailey|  null| paid|Albany-Schenectad...|   GET|Cancellation Conf...|1536102943000|     1059|null|   200|1540402387000|Mozilla/5.0 (Wind...|    73|2018-10-24 17:33:07|\n",
      "|  null|Cancelled|  Jeffery|     M|           46|  Wheeler|  null| paid|         Bozeman, MT|   GET|Cancellation Conf...|1533886191000|     1324|null|   200|1540875543000|\"Mozilla/5.0 (Win...|     3|2018-10-30 04:59:03|\n",
      "|  null|Cancelled|   Sophia|     F|           18|      Key|  null| paid|Los Angeles-Long ...|   GET|Cancellation Conf...|1537679535000|     1383|null|   200|1541166424000|\"Mozilla/5.0 (Mac...|   106|2018-11-02 13:47:04|\n",
      "|  null|Cancelled|    Piper|     F|            8|  Nielsen|  null| paid|New York-Newark-J...|   GET|Cancellation Conf...|1537699856000|     1583|null|   200|1541340091000|\"Mozilla/5.0 (Mac...|   103|2018-11-04 14:01:31|\n",
      "|  null|Cancelled|   Teagan|     F|          306|  Roberts|  null| paid|New Philadelphia-...|   GET|Cancellation Conf...|1537634865000|     1519|null|   200|1541463632000|Mozilla/5.0 (Wind...|    28|2018-11-06 00:20:32|\n",
      "|  null|Cancelled|    Alexi|     F|           42|   Warren|  null| paid|Spokane-Spokane V...|   GET|Cancellation Conf...|1532482662000|     1819|null|   200|1542051608000|Mozilla/5.0 (Wind...|    54|2018-11-12 19:40:08|\n",
      "+------+---------+---------+------+-------------+---------+------+-----+--------------------+------+--------------------+-------------+---------+----+------+-------------+--------------------+------+-------------------+\n",
      "only showing top 20 rows\n",
      "\n"
     ]
    }
   ],
   "source": [
    "valid_df.filter(col(\"page\") == \"Cancellation Confirmation\").show()"
   ]
  },
  {
   "cell_type": "code",
   "execution_count": 23,
   "metadata": {},
   "outputs": [],
   "source": [
    "flag_churn = udf(lambda x: 1 if x == \"Cancellation Confirmation\" else 0, IntegerType())\n"
   ]
  },
  {
   "cell_type": "code",
   "execution_count": 24,
   "metadata": {},
   "outputs": [],
   "source": [
    "valid_churn_df = valid_df.withColumn(\"Churned\", flag_churn(\"page\"))"
   ]
  },
  {
   "cell_type": "code",
   "execution_count": 25,
   "metadata": {},
   "outputs": [],
   "source": [
    "userwindow = Window.partitionBy('userId').rangeBetween(Window.unboundedPreceding,Window.unboundedFollowing)"
   ]
  },
  {
   "cell_type": "code",
   "execution_count": 26,
   "metadata": {},
   "outputs": [],
   "source": [
    "valid_churn_df = valid_churn_df.withColumn('Churn', fmax('Churned').over(userwindow))"
   ]
  },
  {
   "cell_type": "code",
   "execution_count": 27,
   "metadata": {},
   "outputs": [],
   "source": [
    "churned_rate = valid_churn_df.groupby(\"userId\").agg({\"Churned\": \"sum\"})\\\n",
    ".select(avg(\"sum(Churned)\").alias(\"avg_sum_churn\")).collect()[0][\"avg_sum_churn\"]\n"
   ]
  },
  {
   "cell_type": "code",
   "execution_count": 28,
   "metadata": {},
   "outputs": [
    {
     "name": "stdout",
     "output_type": "stream",
     "text": [
      "+------+-----+-----+\n",
      "|userId|Churn|count|\n",
      "+------+-----+-----+\n",
      "|100010|    0|  381|\n",
      "|200002|    0|  474|\n",
      "|   125|    1|   11|\n",
      "|   124|    0| 4825|\n",
      "|    51|    1| 2464|\n",
      "|     7|    0|  201|\n",
      "|    15|    0| 2278|\n",
      "|    54|    1| 3437|\n",
      "|   155|    0| 1002|\n",
      "|100014|    1|  310|\n",
      "|   132|    0| 2304|\n",
      "|   154|    0|  118|\n",
      "|   101|    1| 2149|\n",
      "|    11|    0|  848|\n",
      "|   138|    0| 2469|\n",
      "|300017|    0| 4428|\n",
      "|100021|    1|  319|\n",
      "|    29|    1| 3603|\n",
      "|    69|    0| 1342|\n",
      "|   112|    0|  292|\n",
      "+------+-----+-----+\n",
      "only showing top 20 rows\n",
      "\n"
     ]
    }
   ],
   "source": [
    "valid_churn_df.groupBy(\"userId\", \"Churn\").count().show()\n"
   ]
  },
  {
   "cell_type": "code",
   "execution_count": 29,
   "metadata": {},
   "outputs": [
    {
     "name": "stdout",
     "output_type": "stream",
     "text": [
      "+------+-------+-----+\n",
      "|userId|Churned|count|\n",
      "+------+-------+-----+\n",
      "|    73|      0|  456|\n",
      "|    19|      0|  259|\n",
      "|100005|      1|    1|\n",
      "|200007|      0|   76|\n",
      "|300007|      1|    1|\n",
      "|    50|      0|  651|\n",
      "|100005|      0|  215|\n",
      "|200002|      0|  474|\n",
      "|    30|      0| 1775|\n",
      "|     8|      0|  334|\n",
      "|100011|      1|    1|\n",
      "|100012|      1|    1|\n",
      "|     4|      0| 2442|\n",
      "|200018|      0|  477|\n",
      "|    65|      0| 2544|\n",
      "|    13|      0| 1654|\n",
      "|   101|      1|    1|\n",
      "|   153|      0| 1131|\n",
      "|    42|      0| 4257|\n",
      "|100014|      1|    1|\n",
      "+------+-------+-----+\n",
      "only showing top 20 rows\n",
      "\n"
     ]
    }
   ],
   "source": [
    "valid_churn_df.groupBy(\"userId\", \"Churned\").count().show()"
   ]
  },
  {
   "cell_type": "code",
   "execution_count": 30,
   "metadata": {},
   "outputs": [
    {
     "name": "stdout",
     "output_type": "stream",
     "text": [
      "churned: 23.11%\n"
     ]
    }
   ],
   "source": [
    "print(\"churned: {:.2f}%\".format(churned_rate * 100))\n"
   ]
  },
  {
   "cell_type": "code",
   "execution_count": 31,
   "metadata": {
    "scrolled": true
   },
   "outputs": [
    {
     "name": "stdout",
     "output_type": "stream",
     "text": [
      "+------+------+-----+-----------+------+-------------------+-----+\n",
      "|userId|gender|level|       page|status|               time|churn|\n",
      "+------+------+-----+-----------+------+-------------------+-----+\n",
      "|100010|     F| free|   NextSong|   200|2018-10-08 12:58:54|    0|\n",
      "|100010|     F| free|   NextSong|   200|2018-10-08 13:02:16|    0|\n",
      "|100010|     F| free|   NextSong|   200|2018-10-08 13:05:32|    0|\n",
      "|100010|     F| free|  Thumbs Up|   307|2018-10-08 13:05:33|    0|\n",
      "|100010|     F| free|   NextSong|   200|2018-10-08 13:09:55|    0|\n",
      "|100010|     F| free|   NextSong|   200|2018-10-08 13:15:11|    0|\n",
      "|100010|     F| free|   NextSong|   200|2018-10-08 13:18:14|    0|\n",
      "|100010|     F| free|   NextSong|   200|2018-10-08 13:21:58|    0|\n",
      "|100010|     F| free|Roll Advert|   200|2018-10-08 13:22:41|    0|\n",
      "|100010|     F| free|   NextSong|   200|2018-10-08 13:25:57|    0|\n",
      "|100010|     F| free|   NextSong|   200|2018-10-08 13:28:19|    0|\n",
      "|100010|     F| free|   NextSong|   200|2018-10-08 13:32:28|    0|\n",
      "|100010|     F| free|Roll Advert|   200|2018-10-08 13:32:51|    0|\n",
      "|100010|     F| free|   NextSong|   200|2018-10-08 13:33:20|    0|\n",
      "|100010|     F| free|  Thumbs Up|   307|2018-10-08 13:33:21|    0|\n",
      "|100010|     F| free|   NextSong|   200|2018-10-08 13:36:02|    0|\n",
      "|100010|     F| free|   NextSong|   200|2018-10-08 13:41:25|    0|\n",
      "|100010|     F| free|Roll Advert|   200|2018-10-08 13:41:43|    0|\n",
      "|100010|     F| free|   NextSong|   200|2018-10-08 13:45:30|    0|\n",
      "|100010|     F| free|Roll Advert|   200|2018-10-08 13:45:31|    0|\n",
      "|100010|     F| free|   NextSong|   200|2018-10-08 13:47:38|    0|\n",
      "|100010|     F| free|Roll Advert|   200|2018-10-08 13:48:23|    0|\n",
      "|100010|     F| free|   NextSong|   200|2018-10-08 13:52:40|    0|\n",
      "|100010|     F| free|   NextSong|   200|2018-10-08 13:55:37|    0|\n",
      "|100010|     F| free|   NextSong|   200|2018-10-08 13:59:00|    0|\n",
      "|100010|     F| free|   NextSong|   200|2018-10-08 14:03:04|    0|\n",
      "|100010|     F| free|   NextSong|   200|2018-10-08 14:07:07|    0|\n",
      "|100010|     F| free|   NextSong|   200|2018-10-08 14:09:02|    0|\n",
      "|100010|     F| free|   NextSong|   200|2018-10-08 14:10:41|    0|\n",
      "|100010|     F| free|   NextSong|   200|2018-10-08 14:16:19|    0|\n",
      "+------+------+-----+-----------+------+-------------------+-----+\n",
      "only showing top 30 rows\n",
      "\n"
     ]
    }
   ],
   "source": [
    "valid_churn_df.select([\"userId\", \"gender\", \"level\", \"page\", \"status\", \"time\", \"churn\"]).show(30)"
   ]
  },
  {
   "cell_type": "code",
   "execution_count": 32,
   "metadata": {},
   "outputs": [],
   "source": [
    "user_counts = valid_churn_df.groupBy(\"auth\")\\\n",
    "             .agg(countDistinct(\"userId\").alias(\"user_counts\"))\\\n",
    "             .sort(col(\"user_counts\").desc())"
   ]
  },
  {
   "cell_type": "code",
   "execution_count": 33,
   "metadata": {},
   "outputs": [
    {
     "name": "stdout",
     "output_type": "stream",
     "text": [
      "+---------+-----------+\n",
      "|     auth|user_counts|\n",
      "+---------+-----------+\n",
      "|Logged In|        225|\n",
      "|Cancelled|         52|\n",
      "+---------+-----------+\n",
      "\n"
     ]
    }
   ],
   "source": [
    "user_counts.show()"
   ]
  },
  {
   "cell_type": "markdown",
   "metadata": {},
   "source": [
    "Bellow we can see that 52 users have Cancelled."
   ]
  },
  {
   "cell_type": "code",
   "execution_count": 34,
   "metadata": {},
   "outputs": [],
   "source": [
    "gender_counts = valid_churn_df.groupBy(\"gender\")\\\n",
    "                .agg(countDistinct(\"userId\").alias(\"user_counts\"))\\\n",
    "                .sort(col(\"user_counts\").desc())"
   ]
  },
  {
   "cell_type": "code",
   "execution_count": 35,
   "metadata": {},
   "outputs": [
    {
     "name": "stdout",
     "output_type": "stream",
     "text": [
      "+------+-----------+\n",
      "|gender|user_counts|\n",
      "+------+-----------+\n",
      "|     M|        121|\n",
      "|     F|        104|\n",
      "+------+-----------+\n",
      "\n"
     ]
    }
   ],
   "source": [
    "gender_counts.show()"
   ]
  },
  {
   "cell_type": "code",
   "execution_count": null,
   "metadata": {},
   "outputs": [],
   "source": []
  },
  {
   "cell_type": "code",
   "execution_count": 36,
   "metadata": {
    "scrolled": false
   },
   "outputs": [
    {
     "data": {
      "image/png": "[encoded data removed]",
      "text/plain": [
       "<matplotlib.figure.Figure at 0x7fa621d35e10>"
      ]
     },
     "metadata": {
      "needs_background": "light"
     },
     "output_type": "display_data"
    }
   ],
   "source": [
    "sns.barplot(x='gender', y='user_counts', data=gender_counts.toPandas());"
   ]
  },
  {
   "cell_type": "markdown",
   "metadata": {},
   "source": [
    "There is a bit of more male gender than female gender in the dataset.\n",
    "Precisely the dataset contains 121 male and 104 female."
   ]
  },
  {
   "cell_type": "code",
   "execution_count": 37,
   "metadata": {},
   "outputs": [],
   "source": [
    "iteminsession_counts = valid_churn_df.select(countDistinct(col(\"itemInSession\")).alias(\"item_counts\"))"
   ]
  },
  {
   "cell_type": "code",
   "execution_count": 38,
   "metadata": {},
   "outputs": [
    {
     "name": "stdout",
     "output_type": "stream",
     "text": [
      "+-----------+\n",
      "|item_counts|\n",
      "+-----------+\n",
      "|       1311|\n",
      "+-----------+\n",
      "\n"
     ]
    }
   ],
   "source": [
    "iteminsession_counts.show()"
   ]
  },
  {
   "cell_type": "code",
   "execution_count": 39,
   "metadata": {},
   "outputs": [],
   "source": [
    "length_df = valid_churn_df.select(col(\"length\")).dropna()"
   ]
  },
  {
   "cell_type": "code",
   "execution_count": 40,
   "metadata": {},
   "outputs": [
    {
     "name": "stdout",
     "output_type": "stream",
     "text": [
      "+---------+\n",
      "|   length|\n",
      "+---------+\n",
      "|277.89016|\n",
      "|236.09424|\n",
      "| 282.8273|\n",
      "|262.71302|\n",
      "|223.60771|\n",
      "|208.29995|\n",
      "|260.46649|\n",
      "|185.44281|\n",
      "|134.47791|\n",
      "| 229.8771|\n",
      "|223.58159|\n",
      "|201.06404|\n",
      "|246.69995|\n",
      "|168.64608|\n",
      "| 166.1122|\n",
      "|222.22322|\n",
      "|229.77261|\n",
      "|283.74159|\n",
      "|223.92118|\n",
      "|250.93179|\n",
      "+---------+\n",
      "only showing top 20 rows\n",
      "\n"
     ]
    }
   ],
   "source": [
    "length_df.show()"
   ]
  },
  {
   "cell_type": "code",
   "execution_count": 41,
   "metadata": {
    "scrolled": true
   },
   "outputs": [
    {
     "data": {
      "image/png": "[encoded data removed]",
      "text/plain": [
       "<matplotlib.figure.Figure at 0x7fa656e4a9e8>"
      ]
     },
     "metadata": {
      "needs_background": "light"
     },
     "output_type": "display_data"
    }
   ],
   "source": [
    "sns.distplot(length_df.toPandas());"
   ]
  },
  {
   "cell_type": "markdown",
   "metadata": {},
   "source": [
    "Length looks like a  gaussian distribution with long write tail.\n",
    "Most of length values are concentrated between 0 and 500."
   ]
  },
  {
   "cell_type": "code",
   "execution_count": 42,
   "metadata": {},
   "outputs": [],
   "source": [
    "level_counts = valid_churn_df.groupBy(\"level\")\\\n",
    "                .agg(countDistinct(\"userId\").alias(\"user_counts\"))\\\n",
    "                .sort(col(\"user_counts\").desc())"
   ]
  },
  {
   "cell_type": "code",
   "execution_count": 43,
   "metadata": {},
   "outputs": [
    {
     "name": "stdout",
     "output_type": "stream",
     "text": [
      "+-----+-----------+\n",
      "|level|user_counts|\n",
      "+-----+-----------+\n",
      "| free|        195|\n",
      "| paid|        165|\n",
      "+-----+-----------+\n",
      "\n"
     ]
    }
   ],
   "source": [
    "level_counts.show()"
   ]
  },
  {
   "cell_type": "code",
   "execution_count": 44,
   "metadata": {},
   "outputs": [
    {
     "data": {
      "text/plain": [
       "135"
      ]
     },
     "execution_count": 44,
     "metadata": {},
     "output_type": "execute_result"
    }
   ],
   "source": [
    "# Interaction between paid and free users\n",
    "valid_churn_df.filter(valid_churn_df[\"level\"] == \"paid\") \\\n",
    "      .select(\"userId\").dropDuplicates() \\\n",
    "      .intersect(valid_churn_df.filter(valid_churn_df[\"level\"] == \"free\") \\\n",
    "      .select(\"userId\").dropDuplicates() \\\n",
    "      ).count()"
   ]
  },
  {
   "cell_type": "markdown",
   "metadata": {},
   "source": [
    "There are more  free user than paid one. \n",
    "195 free users and 165 free users.  There also 135 users using paid and free level"
   ]
  },
  {
   "cell_type": "code",
   "execution_count": 45,
   "metadata": {},
   "outputs": [],
   "source": [
    "location_counts = valid_churn_df.groupBy(\"location\")\\\n",
    "                .agg(countDistinct(\"userId\").alias(\"user_counts\"))\\\n",
    "                .sort(col(\"user_counts\").desc())\n"
   ]
  },
  {
   "cell_type": "code",
   "execution_count": 46,
   "metadata": {},
   "outputs": [],
   "source": [
    "location_counts_pd = location_counts.toPandas()"
   ]
  },
  {
   "cell_type": "code",
   "execution_count": 47,
   "metadata": {},
   "outputs": [
    {
     "data": {
      "text/html": [
       "<div>\n",
       "<style scoped>\n",
       "    .dataframe tbody tr th:only-of-type {\n",
       "        vertical-align: middle;\n",
       "    }\n",
       "\n",
       "    .dataframe tbody tr th {\n",
       "        vertical-align: top;\n",
       "    }\n",
       "\n",
       "    .dataframe thead th {\n",
       "        text-align: right;\n",
       "    }\n",
       "</style>\n",
       "<table border=\"1\" class=\"dataframe\">\n",
       "  <thead>\n",
       "    <tr style=\"text-align: right;\">\n",
       "      <th></th>\n",
       "      <th>location</th>\n",
       "      <th>user_counts</th>\n",
       "    </tr>\n",
       "  </thead>\n",
       "  <tbody>\n",
       "    <tr>\n",
       "      <th>0</th>\n",
       "      <td>Los Angeles-Long Beach-Anaheim, CA</td>\n",
       "      <td>16</td>\n",
       "    </tr>\n",
       "    <tr>\n",
       "      <th>1</th>\n",
       "      <td>New York-Newark-Jersey City, NY-NJ-PA</td>\n",
       "      <td>15</td>\n",
       "    </tr>\n",
       "    <tr>\n",
       "      <th>2</th>\n",
       "      <td>Phoenix-Mesa-Scottsdale, AZ</td>\n",
       "      <td>7</td>\n",
       "    </tr>\n",
       "    <tr>\n",
       "      <th>3</th>\n",
       "      <td>Dallas-Fort Worth-Arlington, TX</td>\n",
       "      <td>7</td>\n",
       "    </tr>\n",
       "    <tr>\n",
       "      <th>4</th>\n",
       "      <td>St. Louis, MO-IL</td>\n",
       "      <td>6</td>\n",
       "    </tr>\n",
       "  </tbody>\n",
       "</table>\n",
       "</div>"
      ],
      "text/plain": [
       "                                location  user_counts\n",
       "0     Los Angeles-Long Beach-Anaheim, CA           16\n",
       "1  New York-Newark-Jersey City, NY-NJ-PA           15\n",
       "2            Phoenix-Mesa-Scottsdale, AZ            7\n",
       "3        Dallas-Fort Worth-Arlington, TX            7\n",
       "4                       St. Louis, MO-IL            6"
      ]
     },
     "execution_count": 47,
     "metadata": {},
     "output_type": "execute_result"
    }
   ],
   "source": [
    "location_counts_pd.head()"
   ]
  },
  {
   "cell_type": "code",
   "execution_count": null,
   "metadata": {},
   "outputs": [],
   "source": []
  },
  {
   "cell_type": "code",
   "execution_count": 48,
   "metadata": {},
   "outputs": [],
   "source": [
    "# Split city and state\n",
    "location_counts_pd = location_counts_pd.join(location_counts_pd['location'].str.split(',',expand=True)\\\n",
    "                                        .rename(columns={0:'city', 1:'state'})).drop('location',axis=1)\n"
   ]
  },
  {
   "cell_type": "code",
   "execution_count": 49,
   "metadata": {},
   "outputs": [
    {
     "data": {
      "text/html": [
       "<div>\n",
       "<style scoped>\n",
       "    .dataframe tbody tr th:only-of-type {\n",
       "        vertical-align: middle;\n",
       "    }\n",
       "\n",
       "    .dataframe tbody tr th {\n",
       "        vertical-align: top;\n",
       "    }\n",
       "\n",
       "    .dataframe thead th {\n",
       "        text-align: right;\n",
       "    }\n",
       "</style>\n",
       "<table border=\"1\" class=\"dataframe\">\n",
       "  <thead>\n",
       "    <tr style=\"text-align: right;\">\n",
       "      <th></th>\n",
       "      <th>user_counts</th>\n",
       "      <th>city</th>\n",
       "      <th>state</th>\n",
       "    </tr>\n",
       "  </thead>\n",
       "  <tbody>\n",
       "    <tr>\n",
       "      <th>0</th>\n",
       "      <td>16</td>\n",
       "      <td>Los Angeles-Long Beach-Anaheim</td>\n",
       "      <td>CA</td>\n",
       "    </tr>\n",
       "    <tr>\n",
       "      <th>1</th>\n",
       "      <td>15</td>\n",
       "      <td>New York-Newark-Jersey City</td>\n",
       "      <td>NY-NJ-PA</td>\n",
       "    </tr>\n",
       "    <tr>\n",
       "      <th>2</th>\n",
       "      <td>7</td>\n",
       "      <td>Phoenix-Mesa-Scottsdale</td>\n",
       "      <td>AZ</td>\n",
       "    </tr>\n",
       "    <tr>\n",
       "      <th>3</th>\n",
       "      <td>7</td>\n",
       "      <td>Dallas-Fort Worth-Arlington</td>\n",
       "      <td>TX</td>\n",
       "    </tr>\n",
       "    <tr>\n",
       "      <th>4</th>\n",
       "      <td>6</td>\n",
       "      <td>St. Louis</td>\n",
       "      <td>MO-IL</td>\n",
       "    </tr>\n",
       "  </tbody>\n",
       "</table>\n",
       "</div>"
      ],
      "text/plain": [
       "   user_counts                            city      state\n",
       "0           16  Los Angeles-Long Beach-Anaheim         CA\n",
       "1           15     New York-Newark-Jersey City   NY-NJ-PA\n",
       "2            7         Phoenix-Mesa-Scottsdale         AZ\n",
       "3            7     Dallas-Fort Worth-Arlington         TX\n",
       "4            6                       St. Louis      MO-IL"
      ]
     },
     "execution_count": 49,
     "metadata": {},
     "output_type": "execute_result"
    }
   ],
   "source": [
    "location_counts_pd.head()"
   ]
  },
  {
   "cell_type": "code",
   "execution_count": 50,
   "metadata": {},
   "outputs": [
    {
     "data": {
      "image/png": "[encoded data removed]",
      "text/plain": [
       "<matplotlib.figure.Figure at 0x7fa61949bf28>"
      ]
     },
     "metadata": {
      "needs_background": "light"
     },
     "output_type": "display_data"
    }
   ],
   "source": [
    "location_counts_pd.groupby('state')['user_counts'].sum().sort_values(ascending=False)\\\n",
    ".plot(kind='bar', figsize=(17,10))\n",
    "plt.show()"
   ]
  },
  {
   "cell_type": "code",
   "execution_count": 51,
   "metadata": {
    "scrolled": true
   },
   "outputs": [
    {
     "data": {
      "image/png": "[encoded data removed]",
      "text/plain": [
       "<matplotlib.figure.Figure at 0x7fa621afd198>"
      ]
     },
     "metadata": {
      "needs_background": "light"
     },
     "output_type": "display_data"
    }
   ],
   "source": [
    "location_counts_pd.groupby('city')['user_counts'].sum().sort_values(ascending=False)\\\n",
    ".plot(kind='bar', figsize=(17,10))\n",
    "plt.show()"
   ]
  },
  {
   "cell_type": "markdown",
   "metadata": {},
   "source": [
    "- California and Texas are the most representive state in the dataset\n",
    "- Users  most live in Los Angeles, New york city and Dallas"
   ]
  },
  {
   "cell_type": "code",
   "execution_count": 52,
   "metadata": {},
   "outputs": [],
   "source": [
    "page_counts = valid_churn_df.groupBy(\"page\")\\\n",
    "                .agg(countDistinct(\"userId\").alias(\"user_counts\"))\\\n",
    "                .sort(col(\"user_counts\").desc())"
   ]
  },
  {
   "cell_type": "code",
   "execution_count": 53,
   "metadata": {},
   "outputs": [
    {
     "name": "stdout",
     "output_type": "stream",
     "text": [
      "+--------------------+-----------+\n",
      "|                page|user_counts|\n",
      "+--------------------+-----------+\n",
      "|            NextSong|        225|\n",
      "|                Home|        223|\n",
      "|           Thumbs Up|        220|\n",
      "|     Add to Playlist|        215|\n",
      "|              Logout|        213|\n",
      "|         Roll Advert|        207|\n",
      "|          Add Friend|        206|\n",
      "|         Thumbs Down|        203|\n",
      "|            Settings|        195|\n",
      "|                Help|        192|\n",
      "|             Upgrade|        168|\n",
      "|               About|        155|\n",
      "|           Downgrade|        154|\n",
      "|       Save Settings|        132|\n",
      "|      Submit Upgrade|        131|\n",
      "|               Error|        117|\n",
      "|              Cancel|         52|\n",
      "|Cancellation Conf...|         52|\n",
      "|    Submit Downgrade|         49|\n",
      "+--------------------+-----------+\n",
      "\n"
     ]
    }
   ],
   "source": [
    "page_counts.show()"
   ]
  },
  {
   "cell_type": "code",
   "execution_count": 54,
   "metadata": {
    "scrolled": true
   },
   "outputs": [
    {
     "data": {
      "image/png": "[encoded data removed]",
      "text/plain": [
       "<matplotlib.figure.Figure at 0x7fa618e00748>"
      ]
     },
     "metadata": {
      "needs_background": "light"
     },
     "output_type": "display_data"
    }
   ],
   "source": [
    "sns.barplot(x=\"page\", y=\"user_counts\", data=page_counts.toPandas())\n",
    "plt.xticks(rotation='vertical')\n",
    "plt.show()"
   ]
  },
  {
   "cell_type": "markdown",
   "metadata": {},
   "source": [
    "Most of users are in NextSong, Home, Thumbs Up or Add to Playlist When we have few that cancel, or in Cancellation Confirmation or Submit Downgrade"
   ]
  },
  {
   "cell_type": "code",
   "execution_count": 55,
   "metadata": {},
   "outputs": [],
   "source": [
    "useragent_counts = valid_churn_df.groupBy(\"userAgent\")\\\n",
    "                .agg(countDistinct(\"userId\").alias(\"user_counts\"))\\\n",
    "                .sort(col(\"user_counts\").desc())"
   ]
  },
  {
   "cell_type": "code",
   "execution_count": 56,
   "metadata": {
    "scrolled": true
   },
   "outputs": [
    {
     "name": "stdout",
     "output_type": "stream",
     "text": [
      "+--------------------+-----------+\n",
      "|           userAgent|user_counts|\n",
      "+--------------------+-----------+\n",
      "|\"Mozilla/5.0 (Win...|         24|\n",
      "|Mozilla/5.0 (Wind...|         18|\n",
      "|\"Mozilla/5.0 (Mac...|         16|\n",
      "|\"Mozilla/5.0 (Mac...|         12|\n",
      "|\"Mozilla/5.0 (Mac...|         12|\n",
      "|\"Mozilla/5.0 (Mac...|         10|\n",
      "|\"Mozilla/5.0 (Win...|         10|\n",
      "|Mozilla/5.0 (Maci...|          9|\n",
      "|\"Mozilla/5.0 (iPh...|          8|\n",
      "|\"Mozilla/5.0 (Mac...|          7|\n",
      "|\"Mozilla/5.0 (Win...|          7|\n",
      "|Mozilla/5.0 (Wind...|          7|\n",
      "|\"Mozilla/5.0 (Win...|          5|\n",
      "|\"Mozilla/5.0 (iPh...|          4|\n",
      "|\"Mozilla/5.0 (X11...|          4|\n",
      "|Mozilla/5.0 (Wind...|          4|\n",
      "|Mozilla/5.0 (X11;...|          4|\n",
      "|\"Mozilla/5.0 (Win...|          4|\n",
      "|\"Mozilla/5.0 (Win...|          4|\n",
      "|\"Mozilla/5.0 (Win...|          4|\n",
      "+--------------------+-----------+\n",
      "only showing top 20 rows\n",
      "\n"
     ]
    }
   ],
   "source": [
    "useragent_counts.show()"
   ]
  },
  {
   "cell_type": "code",
   "execution_count": 57,
   "metadata": {},
   "outputs": [],
   "source": [
    "def get_browser(x):\n",
    "    \"\"\"\n",
    "    get the browser name in user agent\n",
    "    Input x (str): userAgent\n",
    "    Output str: browser name like `Firefox`\n",
    "    \"\"\"\n",
    "    if 'Firefox' in x:\n",
    "        return 'Firefox'\n",
    "    elif 'Safari' in x:\n",
    "        if 'Chrome' in x:\n",
    "            return 'Chrome'\n",
    "        else:\n",
    "            return 'Safari'\n",
    "    elif 'Trident' in x:\n",
    "        return 'IE'\n",
    "    else:\n",
    "        return np.NaN\n"
   ]
  },
  {
   "cell_type": "code",
   "execution_count": 58,
   "metadata": {},
   "outputs": [
    {
     "data": {
      "text/plain": [
       "pyspark.sql.dataframe.DataFrame"
      ]
     },
     "execution_count": 58,
     "metadata": {},
     "output_type": "execute_result"
    }
   ],
   "source": [
    "type(useragent_counts)"
   ]
  },
  {
   "cell_type": "code",
   "execution_count": 59,
   "metadata": {},
   "outputs": [],
   "source": [
    "useragent_counts_pd = useragent_counts.toPandas()"
   ]
  },
  {
   "cell_type": "code",
   "execution_count": 60,
   "metadata": {},
   "outputs": [],
   "source": [
    "get_browser_udf = udf(get_browser)"
   ]
  },
  {
   "cell_type": "code",
   "execution_count": 61,
   "metadata": {},
   "outputs": [],
   "source": [
    "useragent_counts1 = useragent_counts.withColumn(\"browser\",  get_browser_udf(\"userAgent\"))"
   ]
  },
  {
   "cell_type": "code",
   "execution_count": 62,
   "metadata": {},
   "outputs": [
    {
     "name": "stdout",
     "output_type": "stream",
     "text": [
      "+--------------------+-----------+-------+\n",
      "|           userAgent|user_counts|browser|\n",
      "+--------------------+-----------+-------+\n",
      "|\"Mozilla/5.0 (Win...|         24| Chrome|\n",
      "|Mozilla/5.0 (Wind...|         18|Firefox|\n",
      "|\"Mozilla/5.0 (Mac...|         16| Chrome|\n",
      "|\"Mozilla/5.0 (Mac...|         12| Chrome|\n",
      "|\"Mozilla/5.0 (Mac...|         12| Safari|\n",
      "|\"Mozilla/5.0 (Win...|         10| Chrome|\n",
      "|\"Mozilla/5.0 (Mac...|         10| Safari|\n",
      "|Mozilla/5.0 (Maci...|          9|Firefox|\n",
      "|\"Mozilla/5.0 (iPh...|          8| Safari|\n",
      "|\"Mozilla/5.0 (Win...|          7| Chrome|\n",
      "|\"Mozilla/5.0 (Mac...|          7| Chrome|\n",
      "|Mozilla/5.0 (Wind...|          7|     IE|\n",
      "|\"Mozilla/5.0 (Win...|          5| Chrome|\n",
      "|\"Mozilla/5.0 (Win...|          4| Chrome|\n",
      "|Mozilla/5.0 (Wind...|          4|Firefox|\n",
      "|\"Mozilla/5.0 (X11...|          4| Chrome|\n",
      "|\"Mozilla/5.0 (Win...|          4| Chrome|\n",
      "|Mozilla/5.0 (X11;...|          4|Firefox|\n",
      "|\"Mozilla/5.0 (Win...|          4| Chrome|\n",
      "|\"Mozilla/5.0 (iPh...|          4| Safari|\n",
      "+--------------------+-----------+-------+\n",
      "only showing top 20 rows\n",
      "\n"
     ]
    }
   ],
   "source": [
    "useragent_counts1.show()"
   ]
  },
  {
   "cell_type": "code",
   "execution_count": 63,
   "metadata": {},
   "outputs": [
    {
     "data": {
      "image/png": "[encoded data removed]",
      "text/plain": [
       "<matplotlib.figure.Figure at 0x7fa621d75748>"
      ]
     },
     "metadata": {
      "needs_background": "light"
     },
     "output_type": "display_data"
    }
   ],
   "source": [
    "plt.title(\"Distribution of browser\")\n",
    "useragent_counts1.toPandas().groupby('browser')['user_counts'].sum().sort_values().plot(kind='bar')\n",
    "plt.show()"
   ]
  },
  {
   "cell_type": "markdown",
   "metadata": {},
   "source": [
    "We see that Chrome browser is far most used, it's followed by firefox and safari.\n",
    "IE is very little bit used."
   ]
  },
  {
   "cell_type": "code",
   "execution_count": 64,
   "metadata": {},
   "outputs": [],
   "source": [
    "platform_dict = {'compatible': 'Windows',  'iPad': 'iPad',  'iPhone': 'iPhone',  \n",
    "                 'Macintosh': 'Mac',  'Windows NT 5.1': 'Windows','Windows NT 6.0': 'Windows',\n",
    "                 'Windows NT 6.1': 'Windows', 'Windows NT 6.2': 'Windows',  'Windows NT 6.3': 'Windows',\n",
    "                 'X11': 'Linux'}"
   ]
  },
  {
   "cell_type": "code",
   "execution_count": 65,
   "metadata": {},
   "outputs": [],
   "source": [
    "useragent_counts1_pd = useragent_counts1.toPandas()"
   ]
  },
  {
   "cell_type": "code",
   "execution_count": 66,
   "metadata": {},
   "outputs": [],
   "source": [
    "useragent_counts1_pd['platform'] = useragent_counts1_pd['userAgent'].str.extract(r'\\(([^\\)]*)\\)')[0]\\\n",
    "                                   .str.split(';').str[0].map(platform_dict)\n"
   ]
  },
  {
   "cell_type": "code",
   "execution_count": 67,
   "metadata": {},
   "outputs": [
    {
     "data": {
      "text/html": [
       "<div>\n",
       "<style scoped>\n",
       "    .dataframe tbody tr th:only-of-type {\n",
       "        vertical-align: middle;\n",
       "    }\n",
       "\n",
       "    .dataframe tbody tr th {\n",
       "        vertical-align: top;\n",
       "    }\n",
       "\n",
       "    .dataframe thead th {\n",
       "        text-align: right;\n",
       "    }\n",
       "</style>\n",
       "<table border=\"1\" class=\"dataframe\">\n",
       "  <thead>\n",
       "    <tr style=\"text-align: right;\">\n",
       "      <th></th>\n",
       "      <th>userAgent</th>\n",
       "      <th>user_counts</th>\n",
       "      <th>browser</th>\n",
       "      <th>platform</th>\n",
       "    </tr>\n",
       "  </thead>\n",
       "  <tbody>\n",
       "    <tr>\n",
       "      <th>0</th>\n",
       "      <td>\"Mozilla/5.0 (Windows NT 6.1; WOW64) AppleWebK...</td>\n",
       "      <td>24</td>\n",
       "      <td>Chrome</td>\n",
       "      <td>Windows</td>\n",
       "    </tr>\n",
       "    <tr>\n",
       "      <th>1</th>\n",
       "      <td>Mozilla/5.0 (Windows NT 6.1; WOW64; rv:31.0) G...</td>\n",
       "      <td>18</td>\n",
       "      <td>Firefox</td>\n",
       "      <td>Windows</td>\n",
       "    </tr>\n",
       "    <tr>\n",
       "      <th>2</th>\n",
       "      <td>\"Mozilla/5.0 (Macintosh; Intel Mac OS X 10_9_4...</td>\n",
       "      <td>16</td>\n",
       "      <td>Chrome</td>\n",
       "      <td>Mac</td>\n",
       "    </tr>\n",
       "    <tr>\n",
       "      <th>3</th>\n",
       "      <td>\"Mozilla/5.0 (Macintosh; Intel Mac OS X 10_9_4...</td>\n",
       "      <td>12</td>\n",
       "      <td>Chrome</td>\n",
       "      <td>Mac</td>\n",
       "    </tr>\n",
       "    <tr>\n",
       "      <th>4</th>\n",
       "      <td>\"Mozilla/5.0 (Macintosh; Intel Mac OS X 10_9_4...</td>\n",
       "      <td>12</td>\n",
       "      <td>Safari</td>\n",
       "      <td>Mac</td>\n",
       "    </tr>\n",
       "  </tbody>\n",
       "</table>\n",
       "</div>"
      ],
      "text/plain": [
       "                                           userAgent  user_counts  browser  \\\n",
       "0  \"Mozilla/5.0 (Windows NT 6.1; WOW64) AppleWebK...           24   Chrome   \n",
       "1  Mozilla/5.0 (Windows NT 6.1; WOW64; rv:31.0) G...           18  Firefox   \n",
       "2  \"Mozilla/5.0 (Macintosh; Intel Mac OS X 10_9_4...           16   Chrome   \n",
       "3  \"Mozilla/5.0 (Macintosh; Intel Mac OS X 10_9_4...           12   Chrome   \n",
       "4  \"Mozilla/5.0 (Macintosh; Intel Mac OS X 10_9_4...           12   Safari   \n",
       "\n",
       "  platform  \n",
       "0  Windows  \n",
       "1  Windows  \n",
       "2      Mac  \n",
       "3      Mac  \n",
       "4      Mac  "
      ]
     },
     "execution_count": 67,
     "metadata": {},
     "output_type": "execute_result"
    }
   ],
   "source": [
    "useragent_counts1_pd.head()"
   ]
  },
  {
   "cell_type": "code",
   "execution_count": 68,
   "metadata": {},
   "outputs": [
    {
     "data": {
      "image/png": "[encoded data removed]",
      "text/plain": [
       "<matplotlib.figure.Figure at 0x7fa618e18cc0>"
      ]
     },
     "metadata": {
      "needs_background": "light"
     },
     "output_type": "display_data"
    }
   ],
   "source": [
    "useragent_counts1_pd.groupby('platform')['user_counts'].sum().sort_values().plot(kind='bar')\n",
    "plt.show()"
   ]
  },
  {
   "cell_type": "code",
   "execution_count": 69,
   "metadata": {},
   "outputs": [],
   "source": [
    "time_dt = valid_churn_df.select(\"time\", \"userId\")"
   ]
  },
  {
   "cell_type": "code",
   "execution_count": 70,
   "metadata": {},
   "outputs": [
    {
     "name": "stdout",
     "output_type": "stream",
     "text": [
      "+-------------------+------+\n",
      "|               time|userId|\n",
      "+-------------------+------+\n",
      "|2018-10-01 00:01:57|    30|\n",
      "|2018-10-01 00:03:00|     9|\n",
      "|2018-10-01 00:06:34|    30|\n",
      "|2018-10-01 00:06:56|     9|\n",
      "|2018-10-01 00:11:16|    30|\n",
      "|2018-10-01 00:11:18|     9|\n",
      "|2018-10-01 00:14:46|     9|\n",
      "|2018-10-01 00:14:59|    30|\n",
      "|2018-10-01 00:15:05|    30|\n",
      "|2018-10-01 00:18:04|    30|\n",
      "|2018-10-01 00:19:06|     9|\n",
      "|2018-10-01 00:19:10|     9|\n",
      "|2018-10-01 00:20:18|    30|\n",
      "|2018-10-01 00:22:55|     9|\n",
      "|2018-10-01 00:22:56|     9|\n",
      "|2018-10-01 00:24:01|    30|\n",
      "|2018-10-01 00:26:16|     9|\n",
      "|2018-10-01 00:27:48|    74|\n",
      "|2018-10-01 00:28:07|    30|\n",
      "|2018-10-01 00:29:04|     9|\n",
      "+-------------------+------+\n",
      "only showing top 20 rows\n",
      "\n"
     ]
    }
   ],
   "source": [
    "time_dt.show()"
   ]
  },
  {
   "cell_type": "code",
   "execution_count": 71,
   "metadata": {},
   "outputs": [],
   "source": [
    "time_dt_pd = time_dt.toPandas()"
   ]
  },
  {
   "cell_type": "code",
   "execution_count": 72,
   "metadata": {},
   "outputs": [],
   "source": [
    "time_dt_pd['time'] = pd.to_datetime(time_dt_pd['time'])"
   ]
  },
  {
   "cell_type": "code",
   "execution_count": 73,
   "metadata": {},
   "outputs": [
    {
     "data": {
      "text/html": [
       "<div>\n",
       "<style scoped>\n",
       "    .dataframe tbody tr th:only-of-type {\n",
       "        vertical-align: middle;\n",
       "    }\n",
       "\n",
       "    .dataframe tbody tr th {\n",
       "        vertical-align: top;\n",
       "    }\n",
       "\n",
       "    .dataframe thead th {\n",
       "        text-align: right;\n",
       "    }\n",
       "</style>\n",
       "<table border=\"1\" class=\"dataframe\">\n",
       "  <thead>\n",
       "    <tr style=\"text-align: right;\">\n",
       "      <th></th>\n",
       "      <th>time</th>\n",
       "      <th>userId</th>\n",
       "    </tr>\n",
       "  </thead>\n",
       "  <tbody>\n",
       "    <tr>\n",
       "      <th>0</th>\n",
       "      <td>2018-10-01 00:01:57</td>\n",
       "      <td>30</td>\n",
       "    </tr>\n",
       "    <tr>\n",
       "      <th>1</th>\n",
       "      <td>2018-10-01 00:03:00</td>\n",
       "      <td>9</td>\n",
       "    </tr>\n",
       "    <tr>\n",
       "      <th>2</th>\n",
       "      <td>2018-10-01 00:06:34</td>\n",
       "      <td>30</td>\n",
       "    </tr>\n",
       "    <tr>\n",
       "      <th>3</th>\n",
       "      <td>2018-10-01 00:06:56</td>\n",
       "      <td>9</td>\n",
       "    </tr>\n",
       "    <tr>\n",
       "      <th>4</th>\n",
       "      <td>2018-10-01 00:11:16</td>\n",
       "      <td>30</td>\n",
       "    </tr>\n",
       "  </tbody>\n",
       "</table>\n",
       "</div>"
      ],
      "text/plain": [
       "                 time userId\n",
       "0 2018-10-01 00:01:57     30\n",
       "1 2018-10-01 00:03:00      9\n",
       "2 2018-10-01 00:06:34     30\n",
       "3 2018-10-01 00:06:56      9\n",
       "4 2018-10-01 00:11:16     30"
      ]
     },
     "execution_count": 73,
     "metadata": {},
     "output_type": "execute_result"
    }
   ],
   "source": [
    "time_dt_pd.head()"
   ]
  },
  {
   "cell_type": "code",
   "execution_count": 74,
   "metadata": {},
   "outputs": [],
   "source": [
    "weekday_dict = {0:'Mon.',1:'Tues.',2:'Wed.',3:'Thur.',4:'Fri.',5:'Sat.',6:'Sun.'}\n",
    "time_dt_pd['weekday'] = time_dt_pd['time'].dt.weekday.map(weekday_dict)\n",
    "time_dt_pd['day'] = time_dt_pd['time'].dt.day\n",
    "time_dt_pd['hour'] = time_dt_pd['time'].dt.hour"
   ]
  },
  {
   "cell_type": "code",
   "execution_count": 75,
   "metadata": {},
   "outputs": [
    {
     "data": {
      "text/plain": [
       "<matplotlib.axes._subplots.AxesSubplot at 0x7fa610d21e48>"
      ]
     },
     "execution_count": 75,
     "metadata": {},
     "output_type": "execute_result"
    },
    {
     "data": {
      "image/png": "[encoded data removed]",
      "text/plain": [
       "<matplotlib.figure.Figure at 0x7fa610d21630>"
      ]
     },
     "metadata": {
      "needs_background": "light"
     },
     "output_type": "display_data"
    }
   ],
   "source": [
    "time_dt_pd.groupby('weekday')['userId'].count().loc[list(weekday_dict.values())].plot(kind='bar',color='#008000')"
   ]
  },
  {
   "cell_type": "code",
   "execution_count": 76,
   "metadata": {
    "scrolled": true
   },
   "outputs": [
    {
     "data": {
      "text/plain": [
       "<matplotlib.axes._subplots.AxesSubplot at 0x7fa621cb8ef0>"
      ]
     },
     "execution_count": 76,
     "metadata": {},
     "output_type": "execute_result"
    },
    {
     "data": {
      "image/png": "[encoded data removed]",
      "text/plain": [
       "<matplotlib.figure.Figure at 0x7fa619ae5898>"
      ]
     },
     "metadata": {
      "needs_background": "light"
     },
     "output_type": "display_data"
    }
   ],
   "source": [
    "time_dt_pd.groupby('day')['userId'].count().plot(kind='bar',color='#008000')\n"
   ]
  },
  {
   "cell_type": "code",
   "execution_count": 77,
   "metadata": {
    "scrolled": true
   },
   "outputs": [
    {
     "data": {
      "text/plain": [
       "<matplotlib.axes._subplots.AxesSubplot at 0x7fa6200cac50>"
      ]
     },
     "execution_count": 77,
     "metadata": {},
     "output_type": "execute_result"
    },
    {
     "data": {
      "image/png": "[encoded data removed]",
      "text/plain": [
       "<matplotlib.figure.Figure at 0x7fa6200d3a90>"
      ]
     },
     "metadata": {
      "needs_background": "light"
     },
     "output_type": "display_data"
    }
   ],
   "source": [
    "time_dt_pd.groupby('hour')['userId'].count().plot(kind='bar',color=\"#008000\")"
   ]
  },
  {
   "cell_type": "markdown",
   "metadata": {},
   "source": [
    "Users' behaviors are periodic, they use Sparkify more often in workdays than weekend; In one single day, they use Sparkify more often after 14 o'clock.\n"
   ]
  },
  {
   "cell_type": "markdown",
   "metadata": {},
   "source": [
    "**Difference of each feature in two stage analysis**"
   ]
  },
  {
   "cell_type": "code",
   "execution_count": 78,
   "metadata": {},
   "outputs": [],
   "source": [
    "label_churn = udf(lambda x: \"Churn\" if x == 1 else \"Not churn\")\n",
    "user_churn = valid_churn_df.groupby(\"userId\").max(\"Churn\").withColumnRenamed(\"max(Churn)\", \"Churned\")"
   ]
  },
  {
   "cell_type": "code",
   "execution_count": 79,
   "metadata": {},
   "outputs": [],
   "source": [
    "def churned(df):\n",
    "    \"\"\"Create new Churned on pyspark df\n",
    "    Input \n",
    "     df spark: dataframe\n",
    "     \n",
    "    Output \n",
    "     spark df \n",
    "    \"\"\"\n",
    "    results = df.withColumn(\"Churned\", label_churn(\"Churn\"))\n",
    "    return results"
   ]
  },
  {
   "cell_type": "code",
   "execution_count": 80,
   "metadata": {},
   "outputs": [],
   "source": [
    "valid_churn_df = churned(valid_churn_df)"
   ]
  },
  {
   "cell_type": "markdown",
   "metadata": {},
   "source": [
    "- auth"
   ]
  },
  {
   "cell_type": "code",
   "execution_count": 81,
   "metadata": {
    "scrolled": true
   },
   "outputs": [
    {
     "name": "stdout",
     "output_type": "stream",
     "text": [
      "+---------+---------+\n",
      "|     auth|  Churned|\n",
      "+---------+---------+\n",
      "|Logged In|Not churn|\n",
      "|Logged In|Not churn|\n",
      "|Logged In|Not churn|\n",
      "|Logged In|Not churn|\n",
      "|Logged In|Not churn|\n",
      "|Logged In|Not churn|\n",
      "|Logged In|Not churn|\n",
      "|Logged In|Not churn|\n",
      "|Logged In|Not churn|\n",
      "|Logged In|Not churn|\n",
      "|Logged In|Not churn|\n",
      "|Logged In|Not churn|\n",
      "|Logged In|Not churn|\n",
      "|Logged In|Not churn|\n",
      "|Logged In|Not churn|\n",
      "|Logged In|Not churn|\n",
      "|Logged In|Not churn|\n",
      "|Logged In|Not churn|\n",
      "|Logged In|Not churn|\n",
      "|Logged In|Not churn|\n",
      "+---------+---------+\n",
      "only showing top 20 rows\n",
      "\n"
     ]
    }
   ],
   "source": [
    "valid_churn_df.select(\"auth\", \"Churned\").show()"
   ]
  },
  {
   "cell_type": "code",
   "execution_count": 82,
   "metadata": {
    "scrolled": false
   },
   "outputs": [
    {
     "name": "stdout",
     "output_type": "stream",
     "text": [
      "+---------+---------+-----+\n",
      "|  Churned|     auth|count|\n",
      "+---------+---------+-----+\n",
      "|    Churn|Logged In|   52|\n",
      "|Not churn|Logged In|  173|\n",
      "+---------+---------+-----+\n",
      "\n"
     ]
    }
   ],
   "source": [
    "valid_churn_df.dropDuplicates([\"userId\"]).groupby([\"Churned\", \"auth\"]).count().sort(\"Churned\").show()"
   ]
  },
  {
   "cell_type": "markdown",
   "metadata": {},
   "source": [
    "It seems that ***auth*** has not effect in Churned"
   ]
  },
  {
   "cell_type": "markdown",
   "metadata": {},
   "source": [
    "- gender"
   ]
  },
  {
   "cell_type": "code",
   "execution_count": 83,
   "metadata": {
    "scrolled": true
   },
   "outputs": [
    {
     "name": "stdout",
     "output_type": "stream",
     "text": [
      "+---------+------+-----+\n",
      "|  Churned|gender|count|\n",
      "+---------+------+-----+\n",
      "|    Churn|     F|   20|\n",
      "|    Churn|     M|   32|\n",
      "|Not churn|     M|   89|\n",
      "|Not churn|     F|   84|\n",
      "+---------+------+-----+\n",
      "\n"
     ]
    }
   ],
   "source": [
    "valid_churn_df.dropDuplicates([\"userId\", \"gender\"]).groupby([\"Churned\", \"gender\"]).count().sort(\"Churned\").show()"
   ]
  },
  {
   "cell_type": "code",
   "execution_count": 84,
   "metadata": {},
   "outputs": [
    {
     "data": {
      "text/plain": [
       "(121, 104)"
      ]
     },
     "execution_count": 84,
     "metadata": {},
     "output_type": "execute_result"
    }
   ],
   "source": [
    "32+89, 20+84"
   ]
  },
  {
   "cell_type": "code",
   "execution_count": 85,
   "metadata": {},
   "outputs": [],
   "source": [
    "stats, p_value = proportions_ztest([20, 32], [104, 121])"
   ]
  },
  {
   "cell_type": "code",
   "execution_count": 86,
   "metadata": {},
   "outputs": [
    {
     "data": {
      "text/plain": [
       "(-1.2800974409737422, 0.20051086855629463)"
      ]
     },
     "execution_count": 86,
     "metadata": {},
     "output_type": "execute_result"
    }
   ],
   "source": [
    "stats, p_value"
   ]
  },
  {
   "cell_type": "code",
   "execution_count": 87,
   "metadata": {},
   "outputs": [],
   "source": [
    "male_churn_rate = 32/121\n",
    "female_churn_rate = 20/104"
   ]
  },
  {
   "cell_type": "code",
   "execution_count": 88,
   "metadata": {},
   "outputs": [
    {
     "data": {
      "text/plain": [
       "(0.2644628099173554, 0.19230769230769232)"
      ]
     },
     "execution_count": 88,
     "metadata": {},
     "output_type": "execute_result"
    }
   ],
   "source": [
    "male_churn_rate, female_churn_rate"
   ]
  },
  {
   "cell_type": "markdown",
   "metadata": {},
   "source": [
    "We see that male churn rate is $0.26$ while female churn rate is $0.19$. But p_value of z_test is 0.2 which is fa above 0.05. So we can affirm that gender has no effect in Churn or Not Churn."
   ]
  },
  {
   "cell_type": "markdown",
   "metadata": {},
   "source": [
    "- length"
   ]
  },
  {
   "cell_type": "code",
   "execution_count": 89,
   "metadata": {},
   "outputs": [],
   "source": [
    "#from pyspark.sql.functions import stddev"
   ]
  },
  {
   "cell_type": "code",
   "execution_count": 90,
   "metadata": {
    "scrolled": true
   },
   "outputs": [
    {
     "name": "stdout",
     "output_type": "stream",
     "text": [
      "+---------+------------------+------------------+----------+----------+\n",
      "|  Churned|       mean_length|      stdev_length|max_length|min_length|\n",
      "+---------+------------------+------------------+----------+----------+\n",
      "|    Churn|248.63279564406218|102.38497717575477|3024.66567|   4.04853|\n",
      "|Not churn|249.20913538880816|  98.6258830014688|3024.66567|   0.78322|\n",
      "+---------+------------------+------------------+----------+----------+\n",
      "\n"
     ]
    }
   ],
   "source": [
    "valid_churn_df.select([\"Churned\", \"length\"]).groupby([\"Churned\"]).agg(avg('length').alias('mean_length'), \n",
    "                                                                     stddev('length').alias('stdev_length'),\n",
    "                                                                     fmax('length').alias('max_length'),\n",
    "                                                                     fmin('length').alias('min_length')).show()\n",
    "\n"
   ]
  },
  {
   "cell_type": "markdown",
   "metadata": {},
   "source": [
    "- level "
   ]
  },
  {
   "cell_type": "code",
   "execution_count": 91,
   "metadata": {},
   "outputs": [],
   "source": [
    "#valid_churn_df, _ = churned(valid_churn_df, \"level\")"
   ]
  },
  {
   "cell_type": "code",
   "execution_count": 92,
   "metadata": {},
   "outputs": [
    {
     "name": "stdout",
     "output_type": "stream",
     "text": [
      "+---------+-----+-----+\n",
      "|  Churned|level|count|\n",
      "+---------+-----+-----+\n",
      "|    Churn| paid|    8|\n",
      "|    Churn| free|   44|\n",
      "|Not churn| free|  133|\n",
      "|Not churn| paid|   40|\n",
      "+---------+-----+-----+\n",
      "\n"
     ]
    }
   ],
   "source": [
    "valid_churn_df.dropDuplicates([\"userId\"]).groupby([\"Churned\", \"level\"]).count().sort(\"Churned\").show()"
   ]
  },
  {
   "cell_type": "code",
   "execution_count": 93,
   "metadata": {},
   "outputs": [],
   "source": [
    "#44+133"
   ]
  },
  {
   "cell_type": "code",
   "execution_count": 94,
   "metadata": {},
   "outputs": [],
   "source": [
    "zstats, pvalue = proportions_ztest([44, 8], [177, 48])"
   ]
  },
  {
   "cell_type": "code",
   "execution_count": 95,
   "metadata": {
    "scrolled": true
   },
   "outputs": [
    {
     "data": {
      "text/plain": [
       "(1.194176507959015, 0.23240893045643263)"
      ]
     },
     "execution_count": 95,
     "metadata": {},
     "output_type": "execute_result"
    }
   ],
   "source": [
    "zstats, pvalue"
   ]
  },
  {
   "cell_type": "code",
   "execution_count": 96,
   "metadata": {},
   "outputs": [],
   "source": [
    "paid_churn_rate, free_churn_rate = 8/48, 44/177"
   ]
  },
  {
   "cell_type": "code",
   "execution_count": 97,
   "metadata": {},
   "outputs": [
    {
     "data": {
      "text/plain": [
       "(0.16666666666666666, 0.24858757062146894)"
      ]
     },
     "execution_count": 97,
     "metadata": {},
     "output_type": "execute_result"
    }
   ],
   "source": [
    "paid_churn_rate, free_churn_rate"
   ]
  },
  {
   "cell_type": "markdown",
   "metadata": {},
   "source": [
    "It seems that level have no  effect in churn because pvalue ($0.25$)  is far above $0.05$"
   ]
  },
  {
   "cell_type": "markdown",
   "metadata": {},
   "source": [
    "- location"
   ]
  },
  {
   "cell_type": "code",
   "execution_count": 98,
   "metadata": {},
   "outputs": [],
   "source": [
    "def normalize_data(groupby_data):\n",
    "    \"\"\"Normalize a grouped dataframe by min max\n",
    "    Input grouped data frame\n",
    "    Output \n",
    "    \n",
    "    \"\"\"\n",
    "    groupby_series = groupby_data.set_index(list(groupby_data.columns[:2]))\n",
    "    temp = groupby_series.unstack('Churned').fillna(0)\n",
    "    df = pd.DataFrame(((temp - temp.min()) / (temp.max() - temp.min())).stack()).reset_index()\n",
    "    df = df.rename(columns={df.columns[-1]: 'results'})\n",
    "    return df\n",
    "\n"
   ]
  },
  {
   "cell_type": "code",
   "execution_count": null,
   "metadata": {},
   "outputs": [],
   "source": []
  },
  {
   "cell_type": "code",
   "execution_count": 99,
   "metadata": {},
   "outputs": [],
   "source": [
    "split_city_state = split(valid_churn_df['location'], ',')"
   ]
  },
  {
   "cell_type": "code",
   "execution_count": 100,
   "metadata": {},
   "outputs": [],
   "source": [
    "valid_churn_df = valid_churn_df.withColumn('state', split_city_state.getItem(1))\n"
   ]
  },
  {
   "cell_type": "code",
   "execution_count": 101,
   "metadata": {},
   "outputs": [],
   "source": [
    "#valid_churn_df, _ = churned(valid_churn_state_df, \"state\")"
   ]
  },
  {
   "cell_type": "code",
   "execution_count": 102,
   "metadata": {},
   "outputs": [],
   "source": [
    "state_data = valid_churn_df.dropDuplicates([\"userId\"]).groupby([\"state\",\"Churned\"])\\\n",
    "            .count().sort(\"state\").toPandas()"
   ]
  },
  {
   "cell_type": "code",
   "execution_count": 103,
   "metadata": {},
   "outputs": [],
   "source": [
    "normalize_state_data = normalize_data(state_data)\n"
   ]
  },
  {
   "cell_type": "code",
   "execution_count": 104,
   "metadata": {},
   "outputs": [
    {
     "data": {
      "text/html": [
       "<div>\n",
       "<style scoped>\n",
       "    .dataframe tbody tr th:only-of-type {\n",
       "        vertical-align: middle;\n",
       "    }\n",
       "\n",
       "    .dataframe tbody tr th {\n",
       "        vertical-align: top;\n",
       "    }\n",
       "\n",
       "    .dataframe thead th {\n",
       "        text-align: right;\n",
       "    }\n",
       "</style>\n",
       "<table border=\"1\" class=\"dataframe\">\n",
       "  <thead>\n",
       "    <tr style=\"text-align: right;\">\n",
       "      <th></th>\n",
       "      <th>state</th>\n",
       "      <th>Churned</th>\n",
       "      <th>results</th>\n",
       "    </tr>\n",
       "  </thead>\n",
       "  <tbody>\n",
       "    <tr>\n",
       "      <th>0</th>\n",
       "      <td>AK</td>\n",
       "      <td>Churn</td>\n",
       "      <td>0.000000</td>\n",
       "    </tr>\n",
       "    <tr>\n",
       "      <th>1</th>\n",
       "      <td>AK</td>\n",
       "      <td>Not churn</td>\n",
       "      <td>0.074074</td>\n",
       "    </tr>\n",
       "    <tr>\n",
       "      <th>2</th>\n",
       "      <td>AL</td>\n",
       "      <td>Churn</td>\n",
       "      <td>0.333333</td>\n",
       "    </tr>\n",
       "    <tr>\n",
       "      <th>3</th>\n",
       "      <td>AL</td>\n",
       "      <td>Not churn</td>\n",
       "      <td>0.074074</td>\n",
       "    </tr>\n",
       "    <tr>\n",
       "      <th>4</th>\n",
       "      <td>AR</td>\n",
       "      <td>Churn</td>\n",
       "      <td>0.166667</td>\n",
       "    </tr>\n",
       "  </tbody>\n",
       "</table>\n",
       "</div>"
      ],
      "text/plain": [
       "  state    Churned   results\n",
       "0    AK      Churn  0.000000\n",
       "1    AK  Not churn  0.074074\n",
       "2    AL      Churn  0.333333\n",
       "3    AL  Not churn  0.074074\n",
       "4    AR      Churn  0.166667"
      ]
     },
     "execution_count": 104,
     "metadata": {},
     "output_type": "execute_result"
    }
   ],
   "source": [
    "normalize_state_data.head()"
   ]
  },
  {
   "cell_type": "code",
   "execution_count": 105,
   "metadata": {},
   "outputs": [
    {
     "data": {
      "image/png": "[encoded data removed]",
      "text/plain": [
       "<matplotlib.figure.Figure at 0x7fa611350390>"
      ]
     },
     "metadata": {
      "needs_background": "light"
     },
     "output_type": "display_data"
    }
   ],
   "source": [
    "fig, ax = plt.subplots(figsize=(10,15))\n",
    "sns.barplot( x=\"results\", y=\"state\", hue=\"Churned\",\n",
    "            data=normalize_state_data, ax=ax)\n",
    "plt.show()"
   ]
  },
  {
   "cell_type": "markdown",
   "metadata": {},
   "source": [
    "- page"
   ]
  },
  {
   "cell_type": "code",
   "execution_count": 106,
   "metadata": {},
   "outputs": [
    {
     "name": "stdout",
     "output_type": "stream",
     "text": [
      "root\n",
      " |-- artist: string (nullable = true)\n",
      " |-- auth: string (nullable = true)\n",
      " |-- firstName: string (nullable = true)\n",
      " |-- gender: string (nullable = true)\n",
      " |-- itemInSession: long (nullable = true)\n",
      " |-- lastName: string (nullable = true)\n",
      " |-- length: double (nullable = true)\n",
      " |-- level: string (nullable = true)\n",
      " |-- location: string (nullable = true)\n",
      " |-- method: string (nullable = true)\n",
      " |-- page: string (nullable = true)\n",
      " |-- registration: long (nullable = true)\n",
      " |-- sessionId: long (nullable = true)\n",
      " |-- song: string (nullable = true)\n",
      " |-- status: long (nullable = true)\n",
      " |-- ts: long (nullable = true)\n",
      " |-- userAgent: string (nullable = true)\n",
      " |-- userId: string (nullable = true)\n",
      " |-- time: string (nullable = true)\n",
      " |-- Churned: string (nullable = true)\n",
      " |-- Churn: integer (nullable = true)\n",
      " |-- state: string (nullable = true)\n",
      "\n"
     ]
    }
   ],
   "source": [
    "valid_churn_df.printSchema()"
   ]
  },
  {
   "cell_type": "code",
   "execution_count": 107,
   "metadata": {},
   "outputs": [],
   "source": [
    "#valid_churn_df, _ = churned(valid_churn_state_df, \"page\")"
   ]
  },
  {
   "cell_type": "code",
   "execution_count": 108,
   "metadata": {
    "scrolled": true
   },
   "outputs": [
    {
     "name": "stdout",
     "output_type": "stream",
     "text": [
      "+---------+--------------------+------+\n",
      "|  Churned|                page| count|\n",
      "+---------+--------------------+------+\n",
      "|Not churn|               About|   439|\n",
      "|    Churn|               About|    56|\n",
      "|Not churn|          Add Friend|  3641|\n",
      "|    Churn|          Add Friend|   636|\n",
      "|    Churn|     Add to Playlist|  1038|\n",
      "|Not churn|     Add to Playlist|  5488|\n",
      "|    Churn|              Cancel|    52|\n",
      "|    Churn|Cancellation Conf...|    52|\n",
      "|Not churn|           Downgrade|  1718|\n",
      "|    Churn|           Downgrade|   337|\n",
      "|Not churn|               Error|   220|\n",
      "|    Churn|               Error|    32|\n",
      "|    Churn|                Help|   239|\n",
      "|Not churn|                Help|  1215|\n",
      "|Not churn|                Home|  8410|\n",
      "|    Churn|                Home|  1672|\n",
      "|Not churn|              Logout|  2673|\n",
      "|    Churn|              Logout|   553|\n",
      "|Not churn|            NextSong|191714|\n",
      "|    Churn|            NextSong| 36394|\n",
      "+---------+--------------------+------+\n",
      "only showing top 20 rows\n",
      "\n"
     ]
    }
   ],
   "source": [
    "valid_churn_df.select([\"Churned\", \"page\"]).groupby([\"Churned\", \"page\"]).count().sort(\"page\").show()"
   ]
  },
  {
   "cell_type": "code",
   "execution_count": 109,
   "metadata": {},
   "outputs": [],
   "source": [
    "page_data = valid_churn_df.select([\"Churned\", \"page\"]).groupby([\"Churned\", \"page\"]).count().sort(\"page\").toPandas()"
   ]
  },
  {
   "cell_type": "code",
   "execution_count": 110,
   "metadata": {},
   "outputs": [],
   "source": [
    "page_data = normalize_data(page_data)"
   ]
  },
  {
   "cell_type": "code",
   "execution_count": 111,
   "metadata": {},
   "outputs": [
    {
     "data": {
      "image/png": "[encoded data removed]",
      "text/plain": [
       "<matplotlib.figure.Figure at 0x7fa612d3e8d0>"
      ]
     },
     "metadata": {
      "needs_background": "light"
     },
     "output_type": "display_data"
    }
   ],
   "source": [
    "fig, ax = plt.subplots(figsize=(8,8))\n",
    "sns.barplot(x=\"results\", y=\"page\", hue=\"Churned\",\n",
    "            data=page_data,ax=ax)\n",
    "plt.show()"
   ]
  },
  {
   "cell_type": "markdown",
   "metadata": {},
   "source": [
    "NextSong,Thumbs Up/Down, Home, Add to Playlist page's seems to have effect on Churn or not."
   ]
  },
  {
   "cell_type": "markdown",
   "metadata": {},
   "source": [
    "- userAgent"
   ]
  },
  {
   "cell_type": "code",
   "execution_count": 112,
   "metadata": {},
   "outputs": [],
   "source": [
    "browser = udf(lambda x : get_browser(x))"
   ]
  },
  {
   "cell_type": "code",
   "execution_count": 113,
   "metadata": {},
   "outputs": [],
   "source": [
    "valid_churn_df = valid_churn_df.withColumn('browser', browser(valid_churn_df.userAgent))"
   ]
  },
  {
   "cell_type": "code",
   "execution_count": 114,
   "metadata": {},
   "outputs": [],
   "source": [
    "#df_browser, _ = churned(df_browser, \"browser\")"
   ]
  },
  {
   "cell_type": "code",
   "execution_count": 115,
   "metadata": {},
   "outputs": [],
   "source": [
    "get_platform = udf(lambda x: platform_dict[re.findall(r'\\(([^\\)]*)\\)',x)[0].split(';')[0]])"
   ]
  },
  {
   "cell_type": "code",
   "execution_count": 116,
   "metadata": {},
   "outputs": [],
   "source": [
    "valid_churn_df = valid_churn_df.withColumn('platform', get_platform(valid_churn_df.userAgent))"
   ]
  },
  {
   "cell_type": "code",
   "execution_count": 117,
   "metadata": {
    "scrolled": false
   },
   "outputs": [],
   "source": [
    "#df_platform, _ = churned(df_platform, \"platform\")"
   ]
  },
  {
   "cell_type": "code",
   "execution_count": 118,
   "metadata": {},
   "outputs": [],
   "source": [
    "browser_data = valid_churn_df.select([\"browser\",\"Churned\"]).groupby([ \"browser\", \"Churned\"]).count().sort(\"browser\").toPandas()"
   ]
  },
  {
   "cell_type": "code",
   "execution_count": 119,
   "metadata": {},
   "outputs": [],
   "source": [
    "platform_data = valid_churn_df.select([\"platform\",\"Churned\"]).groupby([ \"platform\", \"Churned\"]).count().sort(\"platform\").toPandas()"
   ]
  },
  {
   "cell_type": "code",
   "execution_count": 120,
   "metadata": {},
   "outputs": [],
   "source": [
    "browser_data = normalize_data(browser_data)"
   ]
  },
  {
   "cell_type": "code",
   "execution_count": 121,
   "metadata": {},
   "outputs": [
    {
     "data": {
      "image/png": "[encoded data removed]",
      "text/plain": [
       "<matplotlib.figure.Figure at 0x7fa618f3b630>"
      ]
     },
     "metadata": {
      "needs_background": "light"
     },
     "output_type": "display_data"
    }
   ],
   "source": [
    "fig, ax = plt.subplots(figsize=(8,8))\n",
    "sns.barplot( x=\"results\", y=\"browser\", hue=\"Churned\", data=browser_data, ax=ax)\n",
    "plt.show()"
   ]
  },
  {
   "cell_type": "code",
   "execution_count": 122,
   "metadata": {},
   "outputs": [],
   "source": [
    "platform_data = normalize_data(platform_data)"
   ]
  },
  {
   "cell_type": "code",
   "execution_count": 123,
   "metadata": {},
   "outputs": [
    {
     "data": {
      "image/png": "[encoded data removed]",
      "text/plain": [
       "<matplotlib.figure.Figure at 0x7fa6192a9d68>"
      ]
     },
     "metadata": {
      "needs_background": "light"
     },
     "output_type": "display_data"
    }
   ],
   "source": [
    "fig, ax = plt.subplots(figsize=(8,8))\n",
    "sns.barplot( x=\"results\", y=\"platform\", hue=\"Churned\",\n",
    "            data=platform_data, ax=ax)\n",
    "plt.show()"
   ]
  },
  {
   "cell_type": "markdown",
   "metadata": {},
   "source": [
    "# Feature Engineering\n",
    "Once you've familiarized yourself with the data, build out the features you find promising to train your model on. To work with the full dataset, you can follow the following steps.\n",
    "- Write a script to extract the necessary features from the smaller subset of data\n",
    "- Ensure that your script is scalable, using the best practices discussed in Lesson 3\n",
    "- Try your script on the full data set, debugging your script if necessary\n",
    "\n",
    "If you are working in the classroom workspace, you can just extract features based on the small subset of data contained here. Be sure to transfer over this work to the larger dataset when you work on your Spark cluster."
   ]
  },
  {
   "cell_type": "markdown",
   "metadata": {},
   "source": [
    "We can perform some feature engineering\n",
    "- Categorical Features (need label encoding)\n",
    "    - gender\n",
    "    - level\n",
    "    - browser\n",
    "    - platform\n",
    "- Numerical Features\n",
    "    - mean,max,min,std of length of users\n",
    "    - numbers of these item in page (NextSong,ThumbsUp, ThumbsDown, AddtoPlaylist, AddFriend, RollAdvert)\n",
    "    - number of unique songs and total songs of users\n",
    "    - number of unique artists of users\n",
    "    - percentage of operations after 15th in a month\n",
    "    - percentage of operations in workday\n",
    "\n",
    "- Categorical Features\n",
    "\n"
   ]
  },
  {
   "cell_type": "code",
   "execution_count": 124,
   "metadata": {},
   "outputs": [
    {
     "name": "stdout",
     "output_type": "stream",
     "text": [
      "root\n",
      " |-- artist: string (nullable = true)\n",
      " |-- auth: string (nullable = true)\n",
      " |-- firstName: string (nullable = true)\n",
      " |-- gender: string (nullable = true)\n",
      " |-- itemInSession: long (nullable = true)\n",
      " |-- lastName: string (nullable = true)\n",
      " |-- length: double (nullable = true)\n",
      " |-- level: string (nullable = true)\n",
      " |-- location: string (nullable = true)\n",
      " |-- method: string (nullable = true)\n",
      " |-- page: string (nullable = true)\n",
      " |-- registration: long (nullable = true)\n",
      " |-- sessionId: long (nullable = true)\n",
      " |-- song: string (nullable = true)\n",
      " |-- status: long (nullable = true)\n",
      " |-- ts: long (nullable = true)\n",
      " |-- userAgent: string (nullable = true)\n",
      " |-- userId: string (nullable = true)\n",
      " |-- time: string (nullable = true)\n",
      " |-- Churned: string (nullable = true)\n",
      " |-- Churn: integer (nullable = true)\n",
      " |-- state: string (nullable = true)\n",
      " |-- browser: string (nullable = true)\n",
      " |-- platform: string (nullable = true)\n",
      "\n"
     ]
    }
   ],
   "source": [
    "valid_churn_df.printSchema()"
   ]
  },
  {
   "cell_type": "markdown",
   "metadata": {},
   "source": [
    "- ***Categorical variable***"
   ]
  },
  {
   "cell_type": "code",
   "execution_count": 125,
   "metadata": {},
   "outputs": [],
   "source": [
    "def encode_cat_col(colname):\n",
    "    '''\n",
    "    Transform categorical items\n",
    "    to number\n",
    "    Input\n",
    "     colname str: Categorical col name to encode\n",
    "    Output\n",
    "     df containing label encode\n",
    "     \n",
    "    '''\n",
    "    temp = valid_churn_df.select([colname]).dropDuplicates().toPandas()\n",
    "    dict_label = {val: str(idx) for idx, val in enumerate(temp[colname].tolist())}\n",
    "    results = valid_churn_df.dropDuplicates(['userId']).select(['userId', colname])\\\n",
    "    .replace(dict_label, subset=colname)\n",
    "    return results\n",
    "\n"
   ]
  },
  {
   "cell_type": "code",
   "execution_count": 126,
   "metadata": {},
   "outputs": [],
   "source": [
    "def get_categorical_features():\n",
    "    '''\n",
    "    Join all categorical features together\n",
    "    '''\n",
    "    feature_gender =  encode_cat_col('gender')\n",
    "    feature_level =   encode_cat_col('level')\n",
    "    feature_browser =  encode_cat_col('browser')\n",
    "    feature_platform = encode_cat_col('platform')\n",
    "    \n",
    "    results = feature_gender.join(feature_level, on='userId', how='inner')\\\n",
    "                            .join(feature_browser, on='userId', how='inner')\\\n",
    "                            .join(feature_platform, on='userId', how='inner')\n",
    "    return results"
   ]
  },
  {
   "cell_type": "code",
   "execution_count": 127,
   "metadata": {},
   "outputs": [],
   "source": [
    "categorical_feature = get_categorical_features()"
   ]
  },
  {
   "cell_type": "code",
   "execution_count": 128,
   "metadata": {
    "scrolled": true
   },
   "outputs": [
    {
     "name": "stdout",
     "output_type": "stream",
     "text": [
      "+------+------+-----+-------+--------+\n",
      "|userId|gender|level|browser|platform|\n",
      "+------+------+-----+-------+--------+\n",
      "|100010|     0|    0|      1|       1|\n",
      "|200002|     1|    0|      1|       1|\n",
      "|   125|     1|    0|      3|       3|\n",
      "+------+------+-----+-------+--------+\n",
      "only showing top 3 rows\n",
      "\n"
     ]
    }
   ],
   "source": [
    "categorical_feature.show(3)"
   ]
  },
  {
   "cell_type": "markdown",
   "metadata": {},
   "source": [
    "- ***Numerical variable***"
   ]
  },
  {
   "cell_type": "code",
   "execution_count": 129,
   "metadata": {},
   "outputs": [],
   "source": [
    "def get_numerical_features(df):\n",
    "    \"\"\"Join  all numerical features\n",
    "    Input\n",
    "     df dataframe \n",
    "    Output\n",
    "     all numerical features\n",
    "    \"\"\"\n",
    "    feature_length = df.select([\"userId\", \"length\"]).groupby([\"userId\"])\\\n",
    "                     .agg(avg('length').alias('mean_length'), stddev('length').alias('stdev_length'),\\\n",
    "                     fmax('length').alias('max_length'), fmin('length').alias('min_length'))\n",
    "    page_count = df.select([\"userId\",\"page\"]).groupby([\"userId\",\"page\"]).count()\n",
    "    tmp1 = page_count.groupby('userId').pivot('page').agg(first('count')).fillna(0)\n",
    "    tmp1 = tmp1.select(['userId','NextSong','Thumbs Up', 'Thumbs Down',\n",
    "                    'Add to Playlist', 'Add Friend', 'Roll Advert'])\n",
    "    columns = tmp1.columns[1:]\n",
    "    feature_page = tmp1.withColumn('total', sum([col(column) for column in columns])) \n",
    "    # Unique songs number\n",
    "    feature_nunique_song = df.filter(df[\"page\"] == 'NextSong')\\\n",
    "                             .select([\"userId\",\"song\"])\\\n",
    "                             .dropDuplicates([\"userId\",\"song\"])\\\n",
    "                             .groupby([\"userId\"]).count()\n",
    "    feature_nunique_song = feature_nunique_song.selectExpr(\"userId as userId\",\"count as nunique_song\")\n",
    "    feature_ntotal_song = df.filter(df[\"page\"] == 'NextSong')\\\n",
    "                                    .select([\"userId\",\"song\"])\\\n",
    "                                    .groupby([\"userId\"]).count()\n",
    "    feature_ntotal_song = feature_ntotal_song.selectExpr(\"userId as userId\", \"count as ntotal_song\")\n",
    "    feature_nunique_artist = df.filter(df[\"page\"] == 'NextSong')\\\n",
    "                            .select([\"userId\", \"artist\"])\\\n",
    "                            .dropDuplicates([\"userId\", \"artist\"])\\\n",
    "                            .groupby([\"userId\"]).count()\n",
    "    feature_nunique_artist = feature_nunique_artist.selectExpr(\"userId as userId\", \"count as nunique_artist\")\n",
    "    # Create day num and week day\n",
    "    df = df.withColumn('day_num', date_format('time', 'd'))\n",
    "    df = df.withColumn('week_day', date_format('time', 'u'))\n",
    "\n",
    "    day_count = df.filter(df[\"day_num\"] >= 15).select(['userId'])\\\n",
    "                .groupby([\"userId\"]).count()\n",
    "    day_count = day_count.selectExpr(\"userId as userId\",\"count as day_count\")\n",
    "    total_count = df.select(['userId']).groupby([\"userId\"]).count()\n",
    "    total_count = total_count.selectExpr(\"userId as userId\",\"count as total_count\")\n",
    "    \n",
    "    \n",
    "    dayofweek_count = df.filter(df['week_day'] < 5).select(['userId'])\\\n",
    "                     .groupby([\"userId\"]).count()\n",
    "    dayofweek_count = dayofweek_count.selectExpr(\"userId as userId\",\"count as dayofweek_count\")\n",
    "    \n",
    "    feature_percentage_month = (total_count.alias(\"total\").join(day_count.alias(\"day\"), [\"userId\"])\\\n",
    "                               .select(col(\"userId\"), (col(\"day.day_count\") / col(\"total.total_count\"))\\\n",
    "                               .alias(\"month_percentage\")))\n",
    "    feature_percentage_week = (total_count.alias(\"total\").join(dayofweek_count.alias(\"day\"), [\"userId\"])\\\n",
    "                              .select(col(\"userId\"), (col(\"day.dayofweek_count\") / col(\"total.total_count\"))\\\n",
    "                              .alias(\"week_percentage\")))\n",
    "    \n",
    "    results = feature_length.join(feature_page,on='userId', how='inner')\\\n",
    "                            .join(feature_nunique_song, on='userId', how='inner')\\\n",
    "                            .join(feature_ntotal_song, on='userId', how='inner')\\\n",
    "                            .join(feature_nunique_artist, on='userId', how='inner')\\\n",
    "                            .join(feature_percentage_month, on='userId',how='inner')\\\n",
    "                            .join(feature_percentage_week,on='userId',how='inner')\n",
    "    return results\n"
   ]
  },
  {
   "cell_type": "code",
   "execution_count": 130,
   "metadata": {},
   "outputs": [],
   "source": [
    "num_features = get_numerical_features(valid_churn_df)"
   ]
  },
  {
   "cell_type": "code",
   "execution_count": null,
   "metadata": {},
   "outputs": [],
   "source": []
  },
  {
   "cell_type": "code",
   "execution_count": 131,
   "metadata": {},
   "outputs": [
    {
     "name": "stdout",
     "output_type": "stream",
     "text": [
      "+------+------------------+------------------+----------+----------+--------+---------+-----------+---------------+----------+-----------+-----+------------+-----------+--------------+-------------------+------------------+\n",
      "|userId|       mean_length|      stdev_length|max_length|min_length|NextSong|Thumbs Up|Thumbs Down|Add to Playlist|Add Friend|Roll Advert|total|nunique_song|ntotal_song|nunique_artist|   month_percentage|   week_percentage|\n",
      "+------+------------------+------------------+----------+----------+--------+---------+-----------+---------------+----------+-----------+-----+------------+-----------+--------------+-------------------+------------------+\n",
      "|100010|  243.421444909091|  79.5156544698794| 538.85342|  52.27057|     275|       17|          5|              7|         4|         52|  360|         269|        275|           252| 0.4120734908136483|0.5485564304461942|\n",
      "|200002|242.91699209302305|   75.447490312729| 592.06485|  26.56608|     387|       21|          6|              8|         4|          7|  433|         378|        387|           339| 0.9219409282700421|               1.0|\n",
      "|   124|248.17653659965674| 99.33044264553511|2369.04444|  18.05016|    4079|      171|         41|            118|        74|          4| 4487|        3339|       4079|          2232| 0.4578238341968912|0.6625906735751296|\n",
      "|    51|247.88055082899118|104.57060972073867|2594.87302|   4.04853|    2111|      100|         21|             52|        28|          0| 2312|        1854|       2111|          1385| 0.1672077922077922|0.6757305194805194|\n",
      "|     7| 253.5605806666668|109.42993284782153|   878.602|   38.3473|     150|        7|          1|              5|         1|         16|  180|         148|        150|           142| 0.7412935323383084|0.8159203980099502|\n",
      "|    15|249.37701452978064| 88.73888041148142| 1373.6224|  21.91628|    1914|       81|         14|             59|        31|          1| 2100|        1707|       1914|          1302|0.39727831431079896|0.6018437225636524|\n",
      "|    54|250.38539934530132| 98.02306791001034| 1400.2673|  11.98975|    2841|      163|         29|             72|        33|         47| 3185|        2414|       2841|          1744|0.27203956939191154|0.6688972941518766|\n",
      "|   155| 242.4137706097561| 83.04446237736163| 655.77751|  26.90567|     820|       58|          3|             24|        11|          8|  924|         759|        820|           643| 0.6077844311377245| 0.469061876247505|\n",
      "|100014|263.43763455252935|171.84711846316384|2594.87302|  45.94893|     257|       17|          3|              7|         6|          2|  292|         248|        257|           233| 0.7096774193548387|0.7225806451612903|\n",
      "|   132|250.58034431535253| 95.39930795241943|1242.46159|  26.04363|    1928|       96|         17|             38|        41|          2| 2122|        1718|       1928|          1299| 0.3784722222222222|0.7335069444444444|\n",
      "|   154| 245.9526655952382| 81.59410053108489| 655.77751|  28.26404|      84|       11|          0|              1|         3|         10|  109|          83|         84|            78| 0.2542372881355932|0.2542372881355932|\n",
      "|   101|249.00612947690533|112.86871743022515|3024.66567|  22.12526|    1797|       86|         16|             61|        29|          8| 1997|        1608|       1797|          1241|0.06700791065611912|0.8552815262912983|\n",
      "|    11| 246.7851051622872| 92.85278861471296| 995.13424|  40.69832|     647|       40|          9|             20|         6|         39|  761|         616|        647|           534| 0.6462264150943396|0.5530660377358491|\n",
      "|   138|247.56032983574826| 95.13594055311236|1670.45179|  13.63546|    2070|       95|         24|             67|        41|         17| 2314|        1791|       2070|          1332| 0.9169704333738355|0.5791818550020251|\n",
      "|300017|  247.083419661344|  99.6912392587168|1731.00363|   9.01179|    3632|      303|         28|            113|        63|         11| 4150|        3013|       3632|          2070| 0.3748870822041554| 0.559620596205962|\n",
      "|100021| 250.5790245217391| 85.32241208511373| 563.35628|  32.73098|     230|       11|          5|              7|         7|         30|  290|         226|        230|           207| 0.5705329153605015|0.0438871473354232|\n",
      "|    29|249.18017257926053|109.17772071048194|2520.99873|  13.42649|    3028|      154|         22|             89|        47|         22| 3362|        2562|       3028|          1804|0.42353594227033026|0.8334721065778518|\n",
      "|    69|254.27913390222213|120.32463137132146|1670.45179|  27.01016|    1125|       72|          9|             33|        12|          3| 1254|        1036|       1125|           865| 0.6199701937406855|0.6490312965722802|\n",
      "|   112|246.80347251162797|100.98631654346671|1242.46159|  22.36036|     215|        9|          3|              7|         7|         21|  262|         211|        215|           195| 0.3082191780821918|0.7191780821917808|\n",
      "|    42|246.79344140218322|  85.8773582464225| 1400.2673|  11.54567|    3573|      166|         25|            104|        52|         10| 3930|        2961|       3573|          2073| 0.5019967112990369| 0.634954193093728|\n",
      "+------+------------------+------------------+----------+----------+--------+---------+-----------+---------------+----------+-----------+-----+------------+-----------+--------------+-------------------+------------------+\n",
      "only showing top 20 rows\n",
      "\n"
     ]
    }
   ],
   "source": [
    "num_features.show()"
   ]
  },
  {
   "cell_type": "markdown",
   "metadata": {},
   "source": [
    "- Label"
   ]
  },
  {
   "cell_type": "code",
   "execution_count": 132,
   "metadata": {},
   "outputs": [],
   "source": [
    "label = valid_churn_df.select(['userId','Churn']).dropDuplicates()"
   ]
  },
  {
   "cell_type": "code",
   "execution_count": 133,
   "metadata": {
    "scrolled": true
   },
   "outputs": [
    {
     "name": "stdout",
     "output_type": "stream",
     "text": [
      "+------+-----+\n",
      "|userId|Churn|\n",
      "+------+-----+\n",
      "|100010|    0|\n",
      "|200002|    0|\n",
      "|   125|    1|\n",
      "|   124|    0|\n",
      "|    51|    1|\n",
      "|     7|    0|\n",
      "|    15|    0|\n",
      "|    54|    1|\n",
      "|   155|    0|\n",
      "|100014|    1|\n",
      "|   132|    0|\n",
      "|   154|    0|\n",
      "|   101|    1|\n",
      "|    11|    0|\n",
      "|   138|    0|\n",
      "|300017|    0|\n",
      "|100021|    1|\n",
      "|    29|    1|\n",
      "|    69|    0|\n",
      "|   112|    0|\n",
      "+------+-----+\n",
      "only showing top 20 rows\n",
      "\n"
     ]
    }
   ],
   "source": [
    "label.show()"
   ]
  },
  {
   "cell_type": "code",
   "execution_count": 134,
   "metadata": {},
   "outputs": [],
   "source": [
    "def create_data(df):\n",
    "    \"\"\"Merge features and labels\n",
    "    \"\"\"\n",
    "    categorical_feature = get_categorical_features()\n",
    "    numerical_feature = get_numerical_features(df)\n",
    "    label = df.select(['userId','Churn']).dropDuplicates()\n",
    "    results = categorical_feature.join(numerical_feature, on='userId', how='inner')\\\n",
    "            .join(label, on='userId', how='inner')\n",
    "    \n",
    "    \n",
    "    for colname in results.columns[1:5]:\n",
    "        results = results.withColumn(colname, results[colname].cast(IntegerType()))\n",
    "    for colname in results.columns[5:-1]:\n",
    "        results = results.withColumn(colname, results[colname].cast(FloatType()))\n",
    "    # Fill NaN\n",
    "    results = results.na.fill(0)\n",
    "    results = results.withColumnRenamed(\"Churn\", \"label\")\n",
    "  \n",
    "    return results\n"
   ]
  },
  {
   "cell_type": "code",
   "execution_count": 135,
   "metadata": {},
   "outputs": [],
   "source": [
    "data = create_data(valid_churn_df)"
   ]
  },
  {
   "cell_type": "code",
   "execution_count": 136,
   "metadata": {},
   "outputs": [
    {
     "name": "stdout",
     "output_type": "stream",
     "text": [
      "+------+------+-----+-------+--------+-----------+------------+----------+----------+--------+---------+-----------+---------------+----------+-----------+------+------------+-----------+--------------+----------------+---------------+-----+\n",
      "|userId|gender|level|browser|platform|mean_length|stdev_length|max_length|min_length|NextSong|Thumbs Up|Thumbs Down|Add to Playlist|Add Friend|Roll Advert| total|nunique_song|ntotal_song|nunique_artist|month_percentage|week_percentage|label|\n",
      "+------+------+-----+-------+--------+-----------+------------+----------+----------+--------+---------+-----------+---------------+----------+-----------+------+------------+-----------+--------------+----------------+---------------+-----+\n",
      "|100010|     0|    0|      1|       1|  243.42145|   79.515656|  538.8534|  52.27057|   275.0|     17.0|        5.0|            7.0|       4.0|       52.0| 360.0|       269.0|      275.0|         252.0|       0.4120735|     0.54855645|    0|\n",
      "|200002|     1|    0|      1|       1|  242.91699|    75.44749|  592.0649|  26.56608|   387.0|     21.0|        6.0|            8.0|       4.0|        7.0| 433.0|       378.0|      387.0|         339.0|       0.9219409|            1.0|    0|\n",
      "|   124|     0|    1|      3|       3|  248.17654|   99.330444| 2369.0444|  18.05016|  4079.0|    171.0|       41.0|          118.0|      74.0|        4.0|4487.0|      3339.0|     4079.0|        2232.0|      0.45782384|      0.6625907|    0|\n",
      "|    51|     1|    1|      3|       4|  247.88055|   104.57061|  2594.873|   4.04853|  2111.0|    100.0|       21.0|           52.0|      28.0|        0.0|2312.0|      1854.0|     2111.0|        1385.0|      0.16720779|      0.6757305|    1|\n",
      "|     7|     1|    0|      0|       4|  253.56058|   109.42993|   878.602|   38.3473|   150.0|      7.0|        1.0|            5.0|       1.0|       16.0| 180.0|       148.0|      150.0|         142.0|      0.74129355|      0.8159204|    0|\n",
      "|    15|     1|    1|      3|       4|  249.37701|   88.738884| 1373.6224|  21.91628|  1914.0|     81.0|       14.0|           59.0|      31.0|        1.0|2100.0|      1707.0|     1914.0|        1302.0|       0.3972783|      0.6018437|    0|\n",
      "|    54|     0|    1|      0|       4|   250.3854|    98.02307| 1400.2673|  11.98975|  2841.0|    163.0|       29.0|           72.0|      33.0|       47.0|3185.0|      2414.0|     2841.0|        1744.0|      0.27203956|      0.6688973|    1|\n",
      "|   155|     0|    0|      3|       4|  242.41377|   83.044464|  655.7775|  26.90567|   820.0|     58.0|        3.0|           24.0|      11.0|        8.0| 924.0|       759.0|      820.0|         643.0|      0.60778445|     0.46906188|    0|\n",
      "|100014|     1|    1|      3|       4|  263.43762|   171.84712|  2594.873|  45.94893|   257.0|     17.0|        3.0|            7.0|       6.0|        2.0| 292.0|       248.0|      257.0|         233.0|       0.7096774|      0.7225807|    1|\n",
      "|   132|     0|    0|      1|       3|  250.58034|    95.39931| 1242.4615|  26.04363|  1928.0|     96.0|       17.0|           38.0|      41.0|        2.0|2122.0|      1718.0|     1928.0|        1299.0|       0.3784722|      0.7335069|    0|\n",
      "|   154|     0|    0|      3|       4|  245.95267|     81.5941|  655.7775|  28.26404|    84.0|     11.0|        0.0|            1.0|       3.0|       10.0| 109.0|        83.0|       84.0|          78.0|       0.2542373|      0.2542373|    0|\n",
      "|   101|     1|    0|      0|       4|  249.00613|   112.86872| 3024.6658|  22.12526|  1797.0|     86.0|       16.0|           61.0|      29.0|        8.0|1997.0|      1608.0|     1797.0|        1241.0|     0.067007914|     0.85528153|    1|\n",
      "|    11|     0|    0|      2|       4|  246.78511|    92.85279|  995.1342|  40.69832|   647.0|     40.0|        9.0|           20.0|       6.0|       39.0| 761.0|       616.0|      647.0|         534.0|       0.6462264|       0.553066|    0|\n",
      "|   138|     1|    0|      1|       0|  247.56033|    95.13594| 1670.4518|  13.63546|  2070.0|     95.0|       24.0|           67.0|      41.0|       17.0|2314.0|      1791.0|     2070.0|        1332.0|      0.91697043|     0.57918185|    0|\n",
      "|300017|     0|    1|      1|       3|  247.08342|    99.69124| 1731.0037|   9.01179|  3632.0|    303.0|       28.0|          113.0|      63.0|       11.0|4150.0|      3013.0|     3632.0|        2070.0|      0.37488708|      0.5596206|    0|\n",
      "|100021|     1|    0|      1|       3|  250.57903|    85.32241| 563.35626|  32.73098|   230.0|     11.0|        5.0|            7.0|       7.0|       30.0| 290.0|       226.0|      230.0|         207.0|       0.5705329|    0.043887146|    1|\n",
      "|    29|     1|    0|      1|       3|  249.18018|   109.17772| 2520.9988|  13.42649|  3028.0|    154.0|       22.0|           89.0|      47.0|       22.0|3362.0|      2562.0|     3028.0|        1804.0|      0.42353594|     0.83347213|    1|\n",
      "|    69|     0|    0|      3|       4|  254.27913|   120.32463| 1670.4518|  27.01016|  1125.0|     72.0|        9.0|           33.0|      12.0|        3.0|1254.0|      1036.0|     1125.0|         865.0|       0.6199702|      0.6490313|    0|\n",
      "|   112|     1|    0|      0|       4|  246.80347|   100.98631| 1242.4615|  22.36036|   215.0|      9.0|        3.0|            7.0|       7.0|       21.0| 262.0|       211.0|      215.0|         195.0|      0.30821916|      0.7191781|    0|\n",
      "|    42|     0|    0|      3|       4|  246.79344|    85.87736| 1400.2673|  11.54567|  3573.0|    166.0|       25.0|          104.0|      52.0|       10.0|3930.0|      2961.0|     3573.0|        2073.0|       0.5019967|      0.6349542|    0|\n",
      "+------+------+-----+-------+--------+-----------+------------+----------+----------+--------+---------+-----------+---------------+----------+-----------+------+------------+-----------+--------------+----------------+---------------+-----+\n",
      "only showing top 20 rows\n",
      "\n"
     ]
    }
   ],
   "source": [
    "data.show()"
   ]
  },
  {
   "cell_type": "code",
   "execution_count": 137,
   "metadata": {},
   "outputs": [],
   "source": [
    "data.write.save('final_data.json', format='json',\n",
    "                mode='overwrite', header=True)"
   ]
  },
  {
   "cell_type": "code",
   "execution_count": 138,
   "metadata": {},
   "outputs": [],
   "source": [
    "final_data = spark.read.json('final_data.json')"
   ]
  },
  {
   "cell_type": "code",
   "execution_count": 139,
   "metadata": {},
   "outputs": [],
   "source": [
    "columns = final_data.columns\n",
    "columns.remove('label')\n",
    "columns.remove('userId')"
   ]
  },
  {
   "cell_type": "code",
   "execution_count": 140,
   "metadata": {},
   "outputs": [],
   "source": [
    "categorical_features = ['gender','level','browser','platform']\n",
    "numerical_features = [colname for colname in columns if colname not in categorical_features]"
   ]
  },
  {
   "cell_type": "code",
   "execution_count": 141,
   "metadata": {},
   "outputs": [
    {
     "data": {
      "text/plain": [
       "(203, 22)"
      ]
     },
     "execution_count": 141,
     "metadata": {},
     "output_type": "execute_result"
    }
   ],
   "source": [
    "final_data.toPandas().shape"
   ]
  },
  {
   "cell_type": "code",
   "execution_count": 142,
   "metadata": {},
   "outputs": [],
   "source": [
    "#final_data = final_data.withColumnRenamed(\"Churn\", \"label\")"
   ]
  },
  {
   "cell_type": "code",
   "execution_count": 143,
   "metadata": {
    "scrolled": false
   },
   "outputs": [
    {
     "data": {
      "text/plain": [
       "['Add Friend',\n",
       " 'Add to Playlist',\n",
       " 'NextSong',\n",
       " 'Roll Advert',\n",
       " 'Thumbs Down',\n",
       " 'Thumbs Up',\n",
       " 'max_length',\n",
       " 'mean_length',\n",
       " 'min_length',\n",
       " 'month_percentage',\n",
       " 'ntotal_song',\n",
       " 'nunique_artist',\n",
       " 'nunique_song',\n",
       " 'stdev_length',\n",
       " 'total',\n",
       " 'week_percentage']"
      ]
     },
     "execution_count": 143,
     "metadata": {},
     "output_type": "execute_result"
    }
   ],
   "source": [
    "numerical_features"
   ]
  },
  {
   "cell_type": "code",
   "execution_count": 144,
   "metadata": {},
   "outputs": [],
   "source": [
    "def create_pipeline(df):\n",
    "    \"\"\"Create a pipeline that automates process\n",
    "    - Create a vector assembler on features\n",
    "    - Create  label\n",
    "    - Standard scaling\n",
    "    \n",
    "    \n",
    "    Input \n",
    "        df: spark dataframe to process\n",
    "        \n",
    "    Output \n",
    "        labeled dataframe\n",
    "    \n",
    "    \"\"\"\n",
    "    vector = VectorAssembler(inputCols=numerical_features,\n",
    "                             outputCol='numerical_features')\n",
    "    tmp = vector.transform(df)\n",
    "    scaler = StandardScaler(withMean=True, withStd=True,\n",
    "                            inputCol='numerical_features',\n",
    "                            outputCol='features_scaled')\n",
    "    scaler_fit = scaler.fit(tmp)\n",
    "    result_scaled = scaler_fit.transform(tmp)\n",
    "\n",
    "    # Add categorical features to feature vector\n",
    "\n",
    "    vector = VectorAssembler(inputCols=categorical_features + ['features_scaled'],\n",
    "                             outputCol='all_features')\n",
    "    #pipeline = Pipeline(stages=[vector, scaler, clf])\n",
    "\n",
    "    result_scaled = vector.transform(result_scaled)\n",
    "    final_result = result_scaled.select(result_scaled.label, \n",
    "                                        result_scaled.all_features.alias('features'))\n",
    "    \n",
    "    return final_result"
   ]
  },
  {
   "cell_type": "code",
   "execution_count": 145,
   "metadata": {},
   "outputs": [],
   "source": [
    "data = create_pipeline(final_data)"
   ]
  },
  {
   "cell_type": "code",
   "execution_count": 146,
   "metadata": {},
   "outputs": [],
   "source": [
    "train, test = data.randomSplit([0.7, 0.3], seed=12345)"
   ]
  },
  {
   "cell_type": "code",
   "execution_count": 147,
   "metadata": {
    "scrolled": true
   },
   "outputs": [
    {
     "name": "stdout",
     "output_type": "stream",
     "text": [
      "root\n",
      " |-- label: long (nullable = true)\n",
      " |-- features: vector (nullable = true)\n",
      "\n"
     ]
    }
   ],
   "source": [
    "train.printSchema()"
   ]
  },
  {
   "cell_type": "markdown",
   "metadata": {},
   "source": [
    "- We are using smote srategy for unversampling.\n",
    "- ***SMOTE*** introduce some noise in creating synthetic minority instances and serves as a more robust solution than simply resample"
   ]
  },
  {
   "cell_type": "code",
   "execution_count": 148,
   "metadata": {},
   "outputs": [],
   "source": [
    "# source code https://medium.com/@haoyunlai/smote-implementation-in-pyspark-76ec4ffa2f1d\n",
    "def smote(vectorized_sdf, smote_config):\n",
    "    '''\n",
    "    contains logic to perform smote oversampling, given a spark df with 2 classes\n",
    "    inputs:\n",
    "    * vectorized_sdf: cat cols are already stringindexed, num cols are assembled into 'features' vector\n",
    "      df target col should be 'label'\n",
    "    * smote_config: config obj containing smote parameters\n",
    "    output:\n",
    "    * oversampled_df: spark df after smote oversampling\n",
    "    '''\n",
    "    dataInput_min = vectorized_sdf[vectorized_sdf['label'] == 1]\n",
    "    dataInput_maj = vectorized_sdf[vectorized_sdf['label'] == 0]\n",
    "    \n",
    "    # LSH, bucketed random projection\n",
    "    brp = BucketedRandomProjectionLSH(inputCol=\"features\", outputCol=\"hashes\",\n",
    "                                      seed=smote_config[\"seed\"],\n",
    "                                      bucketLength=smote_config[\"bucketLength\"])\n",
    "    # smote only applies on existing minority instances    \n",
    "    model = brp.fit(dataInput_min)\n",
    "    model.transform(dataInput_min)\n",
    "\n",
    "    # here distance is calculated from brp's param inputCol\n",
    "    self_join_w_distance = model.approxSimilarityJoin(dataInput_min, dataInput_min, float(\"inf\"),\n",
    "                                                      distCol=\"EuclideanDistance\")\n",
    "\n",
    "    # remove self-comparison (distance 0)\n",
    "    self_join_w_distance = self_join_w_distance.filter(self_join_w_distance.EuclideanDistance > 0)\n",
    "\n",
    "    over_original_rows = Window.partitionBy(\"datasetA\").orderBy(\"EuclideanDistance\")\n",
    "\n",
    "    self_similarity_df = self_join_w_distance.withColumn(\"r_num\", row_number().over(over_original_rows))\n",
    "\n",
    "    self_similarity_df_selected = self_similarity_df.filter(self_similarity_df.r_num <= smote_config[\"k\"])\n",
    "\n",
    "    over_original_rows_no_order = Window.partitionBy('datasetA')\n",
    "\n",
    "    # list to store batches of synthetic data\n",
    "    res = []\n",
    "    \n",
    "    # two udf for vector add and subtract, subtraction include a random factor [0,1]\n",
    "    subtract_vector_udf = udf(lambda arr: random.uniform(0, 1)*(arr[0]-arr[1]), VectorUDT())\n",
    "    add_vector_udf = udf(lambda arr: arr[0]+arr[1], VectorUDT())\n",
    "    \n",
    "    # retain original columns\n",
    "    original_cols = dataInput_min.columns\n",
    "    \n",
    "    for i in range(smote_config[\"multiplier\"]):\n",
    "        print(\"generating batch %s of synthetic instances\"%i)\n",
    "        # logic to randomly select neighbour: pick the largest random number generated row as the neighbour\n",
    "        df_random_sel = self_similarity_df_selected.withColumn(\"rand\", rand()).withColumn('max_rand', fmax('rand').over(over_original_rows_no_order))\\\n",
    "                            .where(col('rand') == col('max_rand')).drop(*['max_rand','rand','r_num'])\n",
    "        # create synthetic feature numerical part\n",
    "        df_vec_diff = df_random_sel.select('*', subtract_vector_udf(array('datasetA.features', 'datasetB.features')).alias('vec_diff'))\n",
    "        df_vec_modified = df_vec_diff.select('*', add_vector_udf(array('datasetA.features', 'vec_diff')).alias('features'))\n",
    "        \n",
    "        # for categorical cols, either pick original or the neighbour's cat values\n",
    "        for c in original_cols:\n",
    "            # randomly select neighbour or original data\n",
    "            col_sub = random.choice(['datasetA','datasetB'])\n",
    "            val = \"{0}.{1}\".format(col_sub,c)\n",
    "            if c != 'features':\n",
    "                # do not unpack original numerical features\n",
    "                df_vec_modified = df_vec_modified.withColumn(c, col(val))\n",
    "        \n",
    "        # this df_vec_modified is the synthetic minority instances,\n",
    "        df_vec_modified = df_vec_modified.drop(*['datasetA','datasetB','vec_diff','EuclideanDistance'])\n",
    "        \n",
    "        res.append(df_vec_modified)\n",
    "    \n",
    "    dfunion = reduce(DataFrame.unionAll, res)\n",
    "    # union synthetic instances with original full (both minority and majority) df\n",
    "    oversampled_df = dfunion.union(vectorized_sdf.select(dfunion.columns))\n",
    "    \n",
    "    return oversampled_df"
   ]
  },
  {
   "cell_type": "code",
   "execution_count": 149,
   "metadata": {},
   "outputs": [],
   "source": [
    "smote_config = {\"seed\":12345, \"bucketLength\":3.0,\n",
    "                \"multiplier\":4, \"k\": 4}"
   ]
  },
  {
   "cell_type": "code",
   "execution_count": 150,
   "metadata": {},
   "outputs": [
    {
     "name": "stdout",
     "output_type": "stream",
     "text": [
      "generating batch 0 of synthetic instances\n",
      "generating batch 1 of synthetic instances\n",
      "generating batch 2 of synthetic instances\n",
      "generating batch 3 of synthetic instances\n"
     ]
    }
   ],
   "source": [
    "train_smote = smote(train, smote_config)"
   ]
  },
  {
   "cell_type": "code",
   "execution_count": 151,
   "metadata": {},
   "outputs": [
    {
     "name": "stdout",
     "output_type": "stream",
     "text": [
      "+-----+-----+\n",
      "|label|count|\n",
      "+-----+-----+\n",
      "|    0|  121|\n",
      "|    1|  125|\n",
      "+-----+-----+\n",
      "\n"
     ]
    }
   ],
   "source": [
    "train_smote.groupby(\"label\").count().show()\n"
   ]
  },
  {
   "cell_type": "code",
   "execution_count": 152,
   "metadata": {},
   "outputs": [
    {
     "name": "stdout",
     "output_type": "stream",
     "text": [
      "+-----+--------------------+\n",
      "|label|            features|\n",
      "+-----+--------------------+\n",
      "|    0|[0.0,0.0,0.0,4.0,...|\n",
      "|    0|[0.0,0.0,1.0,1.0,...|\n",
      "|    0|[0.0,0.0,1.0,3.0,...|\n",
      "|    0|[0.0,0.0,1.0,3.0,...|\n",
      "|    0|[0.0,0.0,3.0,3.0,...|\n",
      "|    0|[0.0,0.0,3.0,4.0,...|\n",
      "|    0|[0.0,0.0,3.0,4.0,...|\n",
      "|    0|[0.0,0.0,3.0,4.0,...|\n",
      "|    0|[0.0,0.0,3.0,4.0,...|\n",
      "|    0|[0.0,1.0,3.0,4.0,...|\n",
      "|    0|[1.0,0.0,1.0,1.0,...|\n",
      "|    0|[1.0,0.0,1.0,3.0,...|\n",
      "|    0|[1.0,0.0,3.0,3.0,...|\n",
      "|    0|[1.0,0.0,3.0,3.0,...|\n",
      "|    0|[1.0,0.0,3.0,4.0,...|\n",
      "|    1|[0.0,0.0,2.0,4.0,...|\n",
      "|    1|[0.0,0.0,3.0,4.0,...|\n",
      "|    1|[0.0,1.0,0.0,4.0,...|\n",
      "|    1|[1.0,0.0,0.0,3.0,...|\n",
      "|    1|[1.0,0.0,1.0,3.0,...|\n",
      "+-----+--------------------+\n",
      "only showing top 20 rows\n",
      "\n"
     ]
    }
   ],
   "source": [
    "test.show()"
   ]
  },
  {
   "cell_type": "code",
   "execution_count": 153,
   "metadata": {},
   "outputs": [
    {
     "name": "stdout",
     "output_type": "stream",
     "text": [
      "+--------------------+-----+\n",
      "|            features|label|\n",
      "+--------------------+-----+\n",
      "|[1.56266828230879...|    1|\n",
      "|[1.0,0.0,1.0,1.0,...|    1|\n",
      "|[0.0,-0.937276701...|    1|\n",
      "|[0.0,1.0,3.0,4.16...|    1|\n",
      "|[1.0,0.0,-0.18132...|    1|\n",
      "|[0.0,0.0,-2.87537...|    1|\n",
      "|[0.0,0.0,0.0,2.41...|    1|\n",
      "|[0.0,0.0,3.0,3.0,...|    1|\n",
      "|[-0.2042538385705...|    1|\n",
      "|[1.02047397188417...|    1|\n",
      "|[0.0,-0.017468095...|    1|\n",
      "|[1.0,0.0,5.854979...|    1|\n",
      "|[0.0,-0.374451276...|    1|\n",
      "|[1.93871466236497...|    1|\n",
      "|[1.75913250024308...|    1|\n",
      "|[-0.4260122885381...|    1|\n",
      "|[1.0,1.4913651305...|    1|\n",
      "|[0.0,0.0,0.0,2.89...|    1|\n",
      "|[0.0,0.0,0.0,4.07...|    1|\n",
      "|[-0.5432904618409...|    1|\n",
      "+--------------------+-----+\n",
      "only showing top 20 rows\n",
      "\n"
     ]
    }
   ],
   "source": [
    "train_smote.show()"
   ]
  },
  {
   "cell_type": "markdown",
   "metadata": {},
   "source": [
    "# Modelingvector\n",
    "Split the full dataset into train, test, and validation sets. Test out several of the machine learning methods you learned. Evaluate the accuracy of the various models, tuning parameters as necessary. Determine your winning model based on test accuracy and report results on the validation set. Since the churned users are a fairly small subset, I suggest using F1 score as the metric to optimize."
   ]
  },
  {
   "cell_type": "code",
   "execution_count": 154,
   "metadata": {},
   "outputs": [],
   "source": [
    "clf_LR = LogisticRegression(maxIter=50)\n",
    "clf_DT = DecisionTreeClassifier(seed=7)\n",
    "clf_RF = RandomForestClassifier(seed=7)\n",
    "clf_GB = GBTClassifier(maxIter=10)\n",
    "#clf_SVM = LinearSVC()"
   ]
  },
  {
   "cell_type": "code",
   "execution_count": 155,
   "metadata": {},
   "outputs": [],
   "source": [
    "#pipeline = Pipeline(stages=[smote(smote_config=smote_config), clf_LR])\n"
   ]
  },
  {
   "cell_type": "code",
   "execution_count": 156,
   "metadata": {},
   "outputs": [],
   "source": [
    "evaluator = MulticlassClassificationEvaluator(predictionCol=\"prediction\")"
   ]
  },
  {
   "cell_type": "code",
   "execution_count": 157,
   "metadata": {},
   "outputs": [],
   "source": [
    "models = [clf_LR, clf_DT, clf_RF, clf_GB]"
   ]
  },
  {
   "cell_type": "code",
   "execution_count": 158,
   "metadata": {
    "scrolled": true
   },
   "outputs": [],
   "source": [
    "def train_models(model_list, dtrain, dtest):\n",
    "    \"\"\"Train models and compute f1 score\n",
    "    Input:\n",
    "        models: list containing classifiers\n",
    "        dtrain: training dataframe\n",
    "        dtest: test dataframe\n",
    "    Output:\n",
    "        dataframe containing f1 score,\n",
    "        training time and prediction time\n",
    "    \"\"\"\n",
    "    # collect results on the learners\n",
    "    all_results = {}\n",
    "    for clf in model_list:\n",
    "        model_results = {}\n",
    "        # get the classifier name\n",
    "        clf_name = clf.__class__.__name__\n",
    "\n",
    "\n",
    "        # fit the dataset\n",
    "        print(f'{clf_name} is training...')\n",
    "        start = time.time() \n",
    "        model = clf.fit(dtrain)\n",
    "        end = time.time() \n",
    "        model_results['train_time'] = round(end-start,6)\n",
    "\n",
    "        # predict\n",
    "        print(f'{clf_name} is predicting...')\n",
    "        start = time.time() \n",
    "        pred_test = model.transform(dtest)\n",
    "        end = time.time()\n",
    "        model_results['pred_time'] = round(end-start,6)\n",
    "\n",
    "        #metrics\n",
    "        print(f'{clf_name} is evaluating...')    \n",
    "        model_results['f1_test'] = evaluator.evaluate(pred_test.select('label','prediction'),\n",
    "                                                      {evaluator.metricName: 'f1'})\n",
    "        print('Test F1-score: ',model_results['f1_test'])\n",
    "        all_results[clf_name] = model_results\n",
    "\n",
    "    all_results_df = pd.DataFrame(all_results)\n",
    "    all_results_df.to_csv('baseline.csv')\n",
    "    return all_results_df"
   ]
  },
  {
   "cell_type": "code",
   "execution_count": 159,
   "metadata": {
    "scrolled": true
   },
   "outputs": [
    {
     "name": "stdout",
     "output_type": "stream",
     "text": [
      "LogisticRegression is training...\n",
      "LogisticRegression is predicting...\n",
      "LogisticRegression is evaluating...\n",
      "Test F1-score:  0.627650206597575\n",
      "DecisionTreeClassifier is training...\n",
      "DecisionTreeClassifier is predicting...\n",
      "DecisionTreeClassifier is evaluating...\n",
      "Test F1-score:  0.6623673809028501\n",
      "RandomForestClassifier is training...\n",
      "RandomForestClassifier is predicting...\n",
      "RandomForestClassifier is evaluating...\n",
      "Test F1-score:  0.6366431542774463\n",
      "GBTClassifier is training...\n",
      "GBTClassifier is predicting...\n",
      "GBTClassifier is evaluating...\n",
      "Test F1-score:  0.668615984405458\n"
     ]
    }
   ],
   "source": [
    "all_results_df = train_models(models, train_smote, test)"
   ]
  },
  {
   "cell_type": "code",
   "execution_count": 160,
   "metadata": {
    "scrolled": false
   },
   "outputs": [
    {
     "data": {
      "text/html": [
       "<div>\n",
       "<style scoped>\n",
       "    .dataframe tbody tr th:only-of-type {\n",
       "        vertical-align: middle;\n",
       "    }\n",
       "\n",
       "    .dataframe tbody tr th {\n",
       "        vertical-align: top;\n",
       "    }\n",
       "\n",
       "    .dataframe thead th {\n",
       "        text-align: right;\n",
       "    }\n",
       "</style>\n",
       "<table border=\"1\" class=\"dataframe\">\n",
       "  <thead>\n",
       "    <tr style=\"text-align: right;\">\n",
       "      <th></th>\n",
       "      <th>LogisticRegression</th>\n",
       "      <th>DecisionTreeClassifier</th>\n",
       "      <th>RandomForestClassifier</th>\n",
       "      <th>GBTClassifier</th>\n",
       "    </tr>\n",
       "  </thead>\n",
       "  <tbody>\n",
       "    <tr>\n",
       "      <th>f1_test</th>\n",
       "      <td>0.627650</td>\n",
       "      <td>0.662367</td>\n",
       "      <td>0.636643</td>\n",
       "      <td>0.668616</td>\n",
       "    </tr>\n",
       "    <tr>\n",
       "      <th>pred_time</th>\n",
       "      <td>0.076929</td>\n",
       "      <td>0.142952</td>\n",
       "      <td>0.116230</td>\n",
       "      <td>0.086458</td>\n",
       "    </tr>\n",
       "    <tr>\n",
       "      <th>train_time</th>\n",
       "      <td>435.117308</td>\n",
       "      <td>289.801555</td>\n",
       "      <td>321.166523</td>\n",
       "      <td>639.131178</td>\n",
       "    </tr>\n",
       "  </tbody>\n",
       "</table>\n",
       "</div>"
      ],
      "text/plain": [
       "            LogisticRegression  DecisionTreeClassifier  \\\n",
       "f1_test               0.627650                0.662367   \n",
       "pred_time             0.076929                0.142952   \n",
       "train_time          435.117308              289.801555   \n",
       "\n",
       "            RandomForestClassifier  GBTClassifier  \n",
       "f1_test                   0.636643       0.668616  \n",
       "pred_time                 0.116230       0.086458  \n",
       "train_time              321.166523     639.131178  "
      ]
     },
     "execution_count": 160,
     "metadata": {},
     "output_type": "execute_result"
    }
   ],
   "source": [
    "all_results_df"
   ]
  },
  {
   "cell_type": "code",
   "execution_count": 164,
   "metadata": {},
   "outputs": [],
   "source": [
    "params = {param[0].name: param[1] for param in clf_DT.extractParamMap().items()}"
   ]
  },
  {
   "cell_type": "code",
   "execution_count": 165,
   "metadata": {
    "scrolled": false
   },
   "outputs": [
    {
     "data": {
      "text/plain": [
       "{'seed': 7,\n",
       " 'rawPredictionCol': 'rawPrediction',\n",
       " 'probabilityCol': 'probability',\n",
       " 'predictionCol': 'prediction',\n",
       " 'labelCol': 'label',\n",
       " 'featuresCol': 'features',\n",
       " 'maxDepth': 5,\n",
       " 'maxBins': 32,\n",
       " 'minInstancesPerNode': 1,\n",
       " 'minInfoGain': 0.0,\n",
       " 'maxMemoryInMB': 256,\n",
       " 'cacheNodeIds': False,\n",
       " 'checkpointInterval': 10,\n",
       " 'impurity': 'gini'}"
      ]
     },
     "execution_count": 165,
     "metadata": {},
     "output_type": "execute_result"
    }
   ],
   "source": [
    "params"
   ]
  },
  {
   "cell_type": "markdown",
   "metadata": {},
   "source": [
    "Decision trees get best **f1-score** with smaller training time. Due to closness of Decison tree and random forest I have chosen to combine Logistic regression and Decision trees to create a stacking model and finaly train stacked model with Random forest.\n",
    "\n",
    "In the next I tune Decision tree and Logistic Regression stack their probability as features. Finally I tune random forest model on stacked data."
   ]
  },
  {
   "cell_type": "markdown",
   "metadata": {},
   "source": [
    "- Decision Trees"
   ]
  },
  {
   "cell_type": "code",
   "execution_count": 169,
   "metadata": {},
   "outputs": [],
   "source": [
    "paramGrid_DT = ParamGridBuilder()\\\n",
    "             .addGrid(clf_DT.maxDepth, [10, 20, 30])\\\n",
    "             .addGrid(clf_DT.maxBins, [30, 40, 80])\\\n",
    "             .build()"
   ]
  },
  {
   "cell_type": "code",
   "execution_count": 171,
   "metadata": {},
   "outputs": [],
   "source": [
    "crossval_DT = CrossValidator(estimator=clf_DT,\n",
    "                          estimatorParamMaps=paramGrid_DT,\n",
    "                          evaluator=MulticlassClassificationEvaluator(metricName=\"f1\"),\n",
    "                          numFolds=3)"
   ]
  },
  {
   "cell_type": "code",
   "execution_count": null,
   "metadata": {},
   "outputs": [],
   "source": []
  },
  {
   "cell_type": "code",
   "execution_count": 172,
   "metadata": {},
   "outputs": [
    {
     "name": "stdout",
     "output_type": "stream",
     "text": [
      "Model tuning is done, spent 4457.914426326752s\n"
     ]
    }
   ],
   "source": [
    "start = time.time()\n",
    "cvModel_DT = crossval_DT.fit(train_smote)\n",
    "end = time.time()\n",
    "print(f'Model tuning is done, spent {end-start}s')"
   ]
  },
  {
   "cell_type": "code",
   "execution_count": 173,
   "metadata": {},
   "outputs": [],
   "source": [
    "prediction_DT = cvModel_DT.transform(test)"
   ]
  },
  {
   "cell_type": "code",
   "execution_count": 174,
   "metadata": {
    "scrolled": false
   },
   "outputs": [
    {
     "data": {
      "text/plain": [
       "[0.7603767391996613,\n",
       " 0.7906086109935228,\n",
       " 0.7946382580224322,\n",
       " 0.7353410366013657,\n",
       " 0.780759994157981,\n",
       " 0.7907304599068163,\n",
       " 0.7353410366013657,\n",
       " 0.780759994157981,\n",
       " 0.7907304599068163]"
      ]
     },
     "execution_count": 174,
     "metadata": {},
     "output_type": "execute_result"
    }
   ],
   "source": [
    "cvModel_DT.avgMetrics"
   ]
  },
  {
   "cell_type": "code",
   "execution_count": 176,
   "metadata": {
    "scrolled": false
   },
   "outputs": [
    {
     "name": "stdout",
     "output_type": "stream",
     "text": [
      "DT Accuracy: 0.7017543859649122\n",
      "DT F-1 Score: 0.6872197215446645\n"
     ]
    }
   ],
   "source": [
    "print('DT Accuracy: {}'.format(evaluator.evaluate(prediction_DT.select('label', 'prediction'),\n",
    "                                               {evaluator.metricName: \"accuracy\"})))\n",
    "print('DT F-1 Score: {}'.format(evaluator.evaluate(prediction_DT.select('label', 'prediction'),\n",
    "                                               {evaluator.metricName: \"f1\"})))"
   ]
  },
  {
   "cell_type": "code",
   "execution_count": 177,
   "metadata": {},
   "outputs": [],
   "source": [
    "cvModel_DT.save('DT_model')"
   ]
  },
  {
   "cell_type": "markdown",
   "metadata": {},
   "source": [
    "- Logistic Regression"
   ]
  },
  {
   "cell_type": "code",
   "execution_count": 178,
   "metadata": {},
   "outputs": [],
   "source": [
    "paramGrid_LR = ParamGridBuilder().\\\n",
    "            addGrid(clf_LR.elasticNetParam,[0.1, 0.5, 1]).\\\n",
    "            addGrid(clf_LR.regParam,[0.01, 0.05, 0.1]).\\\n",
    "            build()\n"
   ]
  },
  {
   "cell_type": "code",
   "execution_count": 179,
   "metadata": {},
   "outputs": [],
   "source": [
    "crossval_LR = CrossValidator(estimator=clf_LR,\n",
    "                          estimatorParamMaps=paramGrid_LR,\n",
    "                          evaluator=MulticlassClassificationEvaluator(metricName=\"f1\"),\n",
    "                          numFolds=3)"
   ]
  },
  {
   "cell_type": "code",
   "execution_count": 180,
   "metadata": {},
   "outputs": [
    {
     "name": "stdout",
     "output_type": "stream",
     "text": [
      "Model tuning is done, spent 13374.324470281601s\n"
     ]
    }
   ],
   "source": [
    "start = time.time()\n",
    "cvModel_LR = crossval_LR.fit(train_smote)\n",
    "end = time.time()\n",
    "print(f'Model tuning is done, spent {end-start}s')"
   ]
  },
  {
   "cell_type": "code",
   "execution_count": 181,
   "metadata": {},
   "outputs": [],
   "source": [
    "predictions_LR = cvModel_LR.transform(test)"
   ]
  },
  {
   "cell_type": "code",
   "execution_count": 182,
   "metadata": {
    "scrolled": true
   },
   "outputs": [
    {
     "data": {
      "text/plain": [
       "[0.6270914656896373,\n",
       " 0.6076763172091282,\n",
       " 0.5893169959995401,\n",
       " 0.6268838911328379,\n",
       " 0.5890291077307015,\n",
       " 0.5454312546359465,\n",
       " 0.6182502546983905,\n",
       " 0.5679694622462113,\n",
       " 0.30516662180499193]"
      ]
     },
     "execution_count": 182,
     "metadata": {},
     "output_type": "execute_result"
    }
   ],
   "source": [
    "cvModel_LR.avgMetrics"
   ]
  },
  {
   "cell_type": "code",
   "execution_count": 183,
   "metadata": {},
   "outputs": [
    {
     "name": "stdout",
     "output_type": "stream",
     "text": [
      "LR Accuracy: 0.5789473684210527\n",
      "LR F-1 Score: 0.6121883656509696\n"
     ]
    }
   ],
   "source": [
    "print('LR Accuracy: {}'.format(evaluator.evaluate(predictions_LR.select('label','prediction'),\n",
    "                                                  {evaluator.metricName: \"accuracy\"})))\n",
    "print('LR F-1 Score: {}'.format(evaluator.evaluate(predictions_LR.select('label','prediction'),\n",
    "                                                   {evaluator.metricName: \"f1\"})))"
   ]
  },
  {
   "cell_type": "code",
   "execution_count": 184,
   "metadata": {},
   "outputs": [],
   "source": [
    "cvModel_LR.save('LR_model')"
   ]
  },
  {
   "cell_type": "code",
   "execution_count": 191,
   "metadata": {},
   "outputs": [],
   "source": [
    "def stack_data(trained=True):\n",
    "    \"\"\"Stack random forest and\n",
    "    logistic regression model \n",
    "    Create trainable data\n",
    "    Input\n",
    "        trained bool: if trained use train dataframe\n",
    "    Output \n",
    "        dataframe for taining\n",
    "        \n",
    "    \"\"\"\n",
    "    if trained:\n",
    "        dataset = train_smote\n",
    "    else:\n",
    "        dataset = test\n",
    "    dt_predictions = cvModel_DT.transform(dataset)\n",
    "    lr_predictions = cvModel_LR.transform(dataset)\n",
    "    \n",
    "    lr_df = lr_predictions.select(lr_predictions.label, lr_predictions.features,\n",
    "                                  lr_predictions.probability.alias('lr_probability'))\n",
    "    dt_df = dt_predictions.select(dt_predictions.features,\n",
    "                                  dt_predictions.probability.alias('dt_probability'))\n",
    "    \n",
    "    stack_df = lr_df.join(dt_df, on='features')\n",
    "    \n",
    "    # VectorAssembler\n",
    "    vector = VectorAssembler(inputCols=['lr_probability', 'dt_probability'],\n",
    "                             outputCol='combine_probability')\n",
    "    temp = vector.transform(stack_df)\n",
    "    stack_data = temp.select(temp.label, temp.combine_probability.alias('features'))\n",
    "    \n",
    "    return stack_data"
   ]
  },
  {
   "cell_type": "code",
   "execution_count": 192,
   "metadata": {},
   "outputs": [],
   "source": [
    "stack_data_train = stack_data()"
   ]
  },
  {
   "cell_type": "code",
   "execution_count": 193,
   "metadata": {},
   "outputs": [],
   "source": [
    "stack_train, stack_test = stack_data_train.randomSplit([0.6, 0.4], seed=123456)"
   ]
  },
  {
   "cell_type": "code",
   "execution_count": 194,
   "metadata": {},
   "outputs": [],
   "source": [
    "paramGrid_RF = ParamGridBuilder()\\\n",
    "            .addGrid(clf_RF.numTrees, [30, 40, 50])\\\n",
    "            .addGrid(clf_RF.maxDepth, [15, 20, 25])\\\n",
    "            .build()\n",
    "stack_crossval = CrossValidator(estimator=clf_RF,\n",
    "                          estimatorParamMaps=paramGrid_RF,\n",
    "                          evaluator=MulticlassClassificationEvaluator(metricName=\"f1\"),\n",
    "                          numFolds=3)"
   ]
  },
  {
   "cell_type": "code",
   "execution_count": 195,
   "metadata": {},
   "outputs": [
    {
     "name": "stdout",
     "output_type": "stream",
     "text": [
      " Stack Model tuning is done, spent 2678.9659793376923s.\n"
     ]
    }
   ],
   "source": [
    "start = time.time()\n",
    "cvModel_stack = stack_crossval.fit(stack_train)\n",
    "end = time.time()\n",
    "print(f' Stack Model tuning is done, spent {end-start}s.')\n"
   ]
  },
  {
   "cell_type": "markdown",
   "metadata": {},
   "source": [
    "- Predict and evaluate on stacked test data"
   ]
  },
  {
   "cell_type": "code",
   "execution_count": 196,
   "metadata": {},
   "outputs": [
    {
     "name": "stdout",
     "output_type": "stream",
     "text": [
      "Accuracy: 0.9454545454545454\n",
      "F-1 Score:0.9408612440191388\n"
     ]
    }
   ],
   "source": [
    "prediction_stack = cvModel_stack.transform(stack_test)\n",
    "\n",
    "print('Accuracy: {}'.format(evaluator.evaluate(prediction_stack.select('label', 'prediction'),\n",
    "                                               {evaluator.metricName: \"accuracy\"})))\n",
    "print('F-1 Score:{}'.format(evaluator.evaluate(prediction_stack.select('label', 'prediction'),\n",
    "                                               {evaluator.metricName: \"f1\"})))"
   ]
  },
  {
   "cell_type": "markdown",
   "metadata": {},
   "source": [
    "- Prediction and evaluation test data (Data without sampling)"
   ]
  },
  {
   "cell_type": "code",
   "execution_count": 197,
   "metadata": {},
   "outputs": [],
   "source": [
    "test_data = stack_data(trained=False)"
   ]
  },
  {
   "cell_type": "code",
   "execution_count": 198,
   "metadata": {},
   "outputs": [
    {
     "name": "stdout",
     "output_type": "stream",
     "text": [
      "Accuracy: 0.7017543859649122\n",
      "F-1 Score:0.6872197215446645\n"
     ]
    }
   ],
   "source": [
    "prediction_test_data = cvModel_stack.transform(test_data)\n",
    "\n",
    "print('Accuracy: {}'.format(evaluator.evaluate(prediction_test_data.select('label', 'prediction'),\n",
    "                                               {evaluator.metricName: \"accuracy\"})))\n",
    "print('F-1 Score:{}'.format(evaluator.evaluate(prediction_test_data.select('label', 'prediction'),\n",
    "                                               {evaluator.metricName: \"f1\"})))"
   ]
  },
  {
   "cell_type": "markdown",
   "metadata": {},
   "source": [
    "# Conclusion\n",
    "\n",
    "We see that Random the Random forest forest model get best **f1** and spend less training time than gradient boosting. \n",
    "\n",
    "To improve the metrics I think in the future it is good to deploy and S3 and EMR with AWS and "
   ]
  },
  {
   "cell_type": "markdown",
   "metadata": {},
   "source": [
    "# Final Steps\n",
    "Clean up your code, adding comments and renaming variables to make the code easier to read and maintain. Refer to the Spark Project Overview page and Data Scientist Capstone Project Rubric to make sure you are including all components of the capstone project and meet all expectations. Remember, this includes thorough documentation in a README file in a Github repository, as well as a web app or blog post."
   ]
  },
  {
   "cell_type": "code",
   "execution_count": null,
   "metadata": {},
   "outputs": [],
   "source": []
  },
  {
   "cell_type": "code",
   "execution_count": null,
   "metadata": {},
   "outputs": [],
   "source": []
  },
  {
   "cell_type": "code",
   "execution_count": null,
   "metadata": {},
   "outputs": [],
   "source": []
  },
  {
   "cell_type": "code",
   "execution_count": null,
   "metadata": {},
   "outputs": [],
   "source": []
  },
  {
   "cell_type": "code",
   "execution_count": null,
   "metadata": {},
   "outputs": [],
   "source": []
  },
  {
   "cell_type": "code",
   "execution_count": null,
   "metadata": {},
   "outputs": [],
   "source": []
  },
  {
   "cell_type": "code",
   "execution_count": null,
   "metadata": {},
   "outputs": [],
   "source": []
  }
 ],
 "metadata": {
  "kernelspec": {
   "display_name": "Python 3",
   "language": "python",
   "name": "python3"
  },
  "language_info": {
   "codemirror_mode": {
    "name": "ipython",
    "version": 3
   },
   "file_extension": ".py",
   "mimetype": "text/x-python",
   "name": "python",
   "nbconvert_exporter": "python",
   "pygments_lexer": "ipython3",
   "version": "3.6.3"
  }
 },
 "nbformat": 4,
 "nbformat_minor": 2
}
